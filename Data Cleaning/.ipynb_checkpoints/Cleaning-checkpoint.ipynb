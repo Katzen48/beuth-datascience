{
 "cells": [
  {
   "cell_type": "code",
   "execution_count": 1,
   "id": "94dffe23-ec7e-4d26-81b8-793065ef2e64",
   "metadata": {},
   "outputs": [],
   "source": [
    "import numpy as np\n",
    "import pandas as pd"
   ]
  },
  {
   "cell_type": "markdown",
   "id": "097187da-ce71-4735-9b27-142b4bf8ab73",
   "metadata": {},
   "source": [
    "# 1. Have a look at the following dataset"
   ]
  },
  {
   "cell_type": "code",
   "execution_count": 4,
   "id": "d4cdfd1d-6b9b-4ae5-9f81-29839d441d9e",
   "metadata": {},
   "outputs": [],
   "source": [
    "df = pd.read_csv('./dsm-beuth-edl-demodata-orig.csv')"
   ]
  },
  {
   "cell_type": "markdown",
   "id": "4b5eaa6f-4fa1-4b3d-b44e-98420971c9f6",
   "metadata": {},
   "source": [
    "Write a Python / Panda Script which 'cleans' this data set. Justify your actions in the respective notebook or python script you provide as a solution (link, file, kaggle repo, etc.).\n",
    "The original dataset does not necessarily have to be created. A proper strategy / good arguments are more important."
   ]
  },
  {
   "cell_type": "code",
   "execution_count": null,
   "id": "7c4d5846-bf4b-45e6-8e6e-9a3ad918c4a5",
   "metadata": {},
   "outputs": [],
   "source": []
  }
 ],
 "metadata": {
  "kernelspec": {
   "display_name": "Python 3 (ipykernel)",
   "language": "python",
   "name": "python3"
  },
  "language_info": {
   "codemirror_mode": {
    "name": "ipython",
    "version": 3
   },
   "file_extension": ".py",
   "mimetype": "text/x-python",
   "name": "python",
   "nbconvert_exporter": "python",
   "pygments_lexer": "ipython3",
   "version": "3.9.12"
  }
 },
 "nbformat": 4,
 "nbformat_minor": 5
}
