{
 "cells": [
  {
   "cell_type": "markdown",
   "id": "c9d075da-12b0-4583-8672-8a54aea1e135",
   "metadata": {},
   "source": [
    "# Exercise 3 (JULIA)"
   ]
  },
  {
   "cell_type": "code",
   "execution_count": 1,
   "id": "0ff0547b-7f6a-436d-ba89-65a503a4c6cc",
   "metadata": {},
   "outputs": [
    {
     "data": {
      "text/plain": [
       "2×4 Matrix{Float64}:\n",
       " 0.0858655  0.574781  0.277462  0.635419\n",
       " 0.687846   0.360903  0.45721   0.102804"
      ]
     },
     "execution_count": 1,
     "metadata": {},
     "output_type": "execute_result"
    }
   ],
   "source": [
    "matrix = rand(2,4)"
   ]
  },
  {
   "cell_type": "code",
   "execution_count": 3,
   "id": "e5a72420-cade-4d7c-bdb8-72d27cb607f3",
   "metadata": {},
   "outputs": [
    {
     "data": {
      "text/plain": [
       "0.6878462289613055"
      ]
     },
     "execution_count": 3,
     "metadata": {},
     "output_type": "execute_result"
    }
   ],
   "source": [
    "maximum(matrix)"
   ]
  },
  {
   "cell_type": "markdown",
   "id": "2ad8ac05-f2b2-4f96-aa61-5f192b35b133",
   "metadata": {},
   "source": [
    "# Exercise 4 (Julia)"
   ]
  },
  {
   "cell_type": "code",
   "execution_count": 7,
   "id": "11b764a4-51fc-4dcd-9373-90e63affbcbe",
   "metadata": {},
   "outputs": [
    {
     "data": {
      "text/plain": [
       "2×4 Matrix{Float64}:\n",
       " 0.72871   0.214938  0.254742  0.667452\n",
       " 0.679256  0.56862   0.258176  0.229733"
      ]
     },
     "execution_count": 7,
     "metadata": {},
     "output_type": "execute_result"
    }
   ],
   "source": [
    "matrix_one = rand(2,4)"
   ]
  },
  {
   "cell_type": "code",
   "execution_count": 8,
   "id": "21938b2a-8c2b-47f9-82ff-a1a91bb41c11",
   "metadata": {},
   "outputs": [
    {
     "data": {
      "text/plain": [
       "2×4 Matrix{Float64}:\n",
       " 0.173443  0.0524601  0.829766  0.467828\n",
       " 0.813797  0.442448   0.511543  0.948496"
      ]
     },
     "execution_count": 8,
     "metadata": {},
     "output_type": "execute_result"
    }
   ],
   "source": [
    "matrix_two = rand(2,4)"
   ]
  },
  {
   "cell_type": "code",
   "execution_count": 9,
   "id": "76221667-b1ac-4784-869b-beb3163c6ee2",
   "metadata": {},
   "outputs": [
    {
     "data": {
      "text/plain": [
       "2×4 Matrix{Float64}:\n",
       " 0.902153  0.267398  1.08451  1.13528\n",
       " 1.49305   1.01107   0.76972  1.17823"
      ]
     },
     "execution_count": 9,
     "metadata": {},
     "output_type": "execute_result"
    }
   ],
   "source": [
    "sum_matrix = matrix_one + matrix_two"
   ]
  },
  {
   "cell_type": "code",
   "execution_count": 10,
   "id": "99de5a16-226d-4dbd-8a42-239c8e9897ea",
   "metadata": {},
   "outputs": [
    {
     "data": {
      "text/plain": [
       "2×4 Matrix{Float64}:\n",
       "  0.555267  0.162478  -0.575024   0.199624\n",
       " -0.134541  0.126173  -0.253367  -0.718763"
      ]
     },
     "execution_count": 10,
     "metadata": {},
     "output_type": "execute_result"
    }
   ],
   "source": [
    "subtr_matrix = matrix_one - matrix_two"
   ]
  },
  {
   "cell_type": "markdown",
   "id": "595860d4-89e5-40d8-af4c-38767c3d2a40",
   "metadata": {},
   "source": [
    "## 2. Matrix Multiplication"
   ]
  },
  {
   "cell_type": "code",
   "execution_count": 11,
   "id": "e75c2320-c703-4711-8960-9e93e0c50800",
   "metadata": {},
   "outputs": [
    {
     "ename": "LoadError",
     "evalue": "DimensionMismatch(\"A has dimensions (2,4) but B has dimensions (2,4)\")",
     "output_type": "error",
     "traceback": [
      "DimensionMismatch(\"A has dimensions (2,4) but B has dimensions (2,4)\")",
      "",
      "Stacktrace:",
      " [1] gemm_wrapper!(C::Matrix{Float64}, tA::Char, tB::Char, A::Matrix{Float64}, B::Matrix{Float64}, _add::LinearAlgebra.MulAddMul{true, true, Bool, Bool})",
      "   @ LinearAlgebra C:\\Users\\Startrekfreak\\AppData\\Local\\Programs\\Julia\\share\\julia\\stdlib\\v1.7\\LinearAlgebra\\src\\matmul.jl:643",
      " [2] mul!",
      "   @ C:\\Users\\Startrekfreak\\AppData\\Local\\Programs\\Julia\\share\\julia\\stdlib\\v1.7\\LinearAlgebra\\src\\matmul.jl:169 [inlined]",
      " [3] mul!",
      "   @ C:\\Users\\Startrekfreak\\AppData\\Local\\Programs\\Julia\\share\\julia\\stdlib\\v1.7\\LinearAlgebra\\src\\matmul.jl:275 [inlined]",
      " [4] *(A::Matrix{Float64}, B::Matrix{Float64})",
      "   @ LinearAlgebra C:\\Users\\Startrekfreak\\AppData\\Local\\Programs\\Julia\\share\\julia\\stdlib\\v1.7\\LinearAlgebra\\src\\matmul.jl:160",
      " [5] top-level scope",
      "   @ In[11]:1",
      " [6] eval",
      "   @ .\\boot.jl:373 [inlined]",
      " [7] include_string(mapexpr::typeof(REPL.softscope), mod::Module, code::String, filename::String)",
      "   @ Base .\\loading.jl:1196"
     ]
    }
   ],
   "source": [
    "matrix_one * matrix_two"
   ]
  },
  {
   "cell_type": "markdown",
   "id": "6d1705c4-fc03-481d-a5e2-c5211895e69a",
   "metadata": {},
   "source": [
    "## 2. Multiplication of all values of the matrix (broadcasting)"
   ]
  },
  {
   "cell_type": "code",
   "execution_count": 12,
   "id": "412e8b17-21a7-46b0-98a6-1e381bd9f8c5",
   "metadata": {},
   "outputs": [
    {
     "data": {
      "text/plain": [
       "2×4 Matrix{Float64}:\n",
       " 0.12639   0.0112757  0.211376  0.312253\n",
       " 0.552777  0.251585   0.132068  0.217901"
      ]
     },
     "execution_count": 12,
     "metadata": {},
     "output_type": "execute_result"
    }
   ],
   "source": [
    "matrix_one .* matrix_two"
   ]
  },
  {
   "cell_type": "markdown",
   "id": "d4754f10-faba-4dbc-9009-6e5db4969ea4",
   "metadata": {},
   "source": [
    "## 3. Matrix Division"
   ]
  },
  {
   "cell_type": "code",
   "execution_count": 13,
   "id": "8821be27-20aa-4441-8afb-abae9c4147ed",
   "metadata": {},
   "outputs": [
    {
     "data": {
      "text/plain": [
       "2×2 Matrix{Float64}:\n",
       " -0.19626  0.819154\n",
       " -0.29328  0.721598"
      ]
     },
     "execution_count": 13,
     "metadata": {},
     "output_type": "execute_result"
    }
   ],
   "source": [
    "matrix_one / matrix_two"
   ]
  },
  {
   "cell_type": "markdown",
   "id": "50f5ec0e-c2ab-423a-bc3d-0628f2f881d7",
   "metadata": {},
   "source": [
    "## 3. Solve linear system"
   ]
  },
  {
   "cell_type": "code",
   "execution_count": 14,
   "id": "52fdbe0c-a261-4f16-b8ac-464608c81bed",
   "metadata": {},
   "outputs": [
    {
     "data": {
      "text/plain": [
       "4×4 Matrix{Float64}:\n",
       "  0.426139   0.218306   0.498337    0.581628\n",
       "  1.08547    0.631586  -0.0314443   1.00204\n",
       "  0.202976   0.108231   0.164168    0.250057\n",
       " -0.632412  -0.40444    0.64658    -0.352214"
      ]
     },
     "execution_count": 14,
     "metadata": {},
     "output_type": "execute_result"
    }
   ],
   "source": [
    "matrix_one \\ matrix_two"
   ]
  },
  {
   "cell_type": "markdown",
   "id": "f0cbd1b5-b8c2-4bd4-adc6-0570f69d5c31",
   "metadata": {},
   "source": [
    "## 4. Matrix Operations"
   ]
  },
  {
   "cell_type": "code",
   "execution_count": 16,
   "id": "542b890e-c44a-4138-9d60-4a4434018d54",
   "metadata": {},
   "outputs": [
    {
     "data": {
      "text/plain": [
       "3×3 Matrix{Int64}:\n",
       " 1  0  0\n",
       " 0  1  0\n",
       " 0  0  1"
      ]
     },
     "execution_count": 16,
     "metadata": {},
     "output_type": "execute_result"
    }
   ],
   "source": [
    "using LinearAlgebra\n",
    "unit_matrix = Matrix{Int}(1I, 3, 3)"
   ]
  },
  {
   "cell_type": "code",
   "execution_count": 18,
   "id": "b473150e-d0b7-4515-87c7-377c3fecb8a5",
   "metadata": {},
   "outputs": [
    {
     "data": {
      "text/plain": [
       "3×3 Matrix{Int64}:\n",
       " 2  1  1\n",
       " 1  2  1\n",
       " 1  1  2"
      ]
     },
     "execution_count": 18,
     "metadata": {},
     "output_type": "execute_result"
    }
   ],
   "source": [
    "unit_matrix .+ 1"
   ]
  },
  {
   "cell_type": "code",
   "execution_count": 19,
   "id": "7fa0b94d-063b-43ec-a9e1-71d6851a1a31",
   "metadata": {},
   "outputs": [
    {
     "data": {
      "text/plain": [
       "3×3 Matrix{Int64}:\n",
       "  0  -1  -1\n",
       " -1   0  -1\n",
       " -1  -1   0"
      ]
     },
     "execution_count": 19,
     "metadata": {},
     "output_type": "execute_result"
    }
   ],
   "source": [
    "unit_matrix .- 1"
   ]
  },
  {
   "cell_type": "code",
   "execution_count": 20,
   "id": "3a97e8fd-f8e0-4e90-bf87-3120b4c9fc98",
   "metadata": {},
   "outputs": [
    {
     "data": {
      "text/plain": [
       "3×3 Matrix{Int64}:\n",
       " 2  0  0\n",
       " 0  2  0\n",
       " 0  0  2"
      ]
     },
     "execution_count": 20,
     "metadata": {},
     "output_type": "execute_result"
    }
   ],
   "source": [
    "unit_matrix .* 2"
   ]
  },
  {
   "cell_type": "code",
   "execution_count": 22,
   "id": "810ab5c3-79f0-4761-ac7c-e7e7e12d6080",
   "metadata": {},
   "outputs": [
    {
     "data": {
      "text/plain": [
       "3×3 Matrix{Float64}:\n",
       " 0.5  0.0  0.0\n",
       " 0.0  0.5  0.0\n",
       " 0.0  0.0  0.5"
      ]
     },
     "execution_count": 22,
     "metadata": {},
     "output_type": "execute_result"
    }
   ],
   "source": [
    "unit_matrix ./ 2"
   ]
  },
  {
   "cell_type": "markdown",
   "id": "bba226f1-b758-4a5b-93df-51ab9b445f86",
   "metadata": {},
   "source": [
    "## 5. Matrix and Vector Multiplication"
   ]
  },
  {
   "cell_type": "code",
   "execution_count": 27,
   "id": "7c91c2f6-19f8-4cd2-a55b-abc069e424f0",
   "metadata": {},
   "outputs": [
    {
     "data": {
      "text/plain": [
       "3×4 Matrix{Float64}:\n",
       " 0.838434    0.440145   0.742819  0.849895\n",
       " 0.550118    0.850906   0.402031  0.446289\n",
       " 0.00710962  0.0148133  0.217105  0.955513"
      ]
     },
     "execution_count": 27,
     "metadata": {},
     "output_type": "execute_result"
    }
   ],
   "source": [
    "multpl_matrix = rand(3,4)"
   ]
  },
  {
   "cell_type": "code",
   "execution_count": 28,
   "id": "0970eb2d-1dca-4f1d-a188-c5bd748fd184",
   "metadata": {},
   "outputs": [
    {
     "data": {
      "text/plain": [
       "4-element Vector{Float64}:\n",
       " 0.9881673220373527\n",
       " 0.37850548860496835\n",
       " 0.49453828508992004\n",
       " 0.8974149083556642"
      ]
     },
     "execution_count": 28,
     "metadata": {},
     "output_type": "execute_result"
    }
   ],
   "source": [
    "multpl_vector = rand(4)"
   ]
  },
  {
   "cell_type": "code",
   "execution_count": 29,
   "id": "53363767-5467-46c0-b8b1-cfdfaa4ce5df",
   "metadata": {},
   "outputs": [
    {
     "data": {
      "text/plain": [
       "3-element Vector{Float64}:\n",
       " 2.1251714198937224\n",
       " 1.4650077213844752\n",
       " 0.9774909900580657"
      ]
     },
     "execution_count": 29,
     "metadata": {},
     "output_type": "execute_result"
    }
   ],
   "source": [
    "multpl_matrix * multpl_vector"
   ]
  }
 ],
 "metadata": {
  "kernelspec": {
   "display_name": "Julia 1.7.2",
   "language": "julia",
   "name": "julia-1.7"
  },
  "language_info": {
   "file_extension": ".jl",
   "mimetype": "application/julia",
   "name": "julia",
   "version": "1.7.2"
  }
 },
 "nbformat": 4,
 "nbformat_minor": 5
}
