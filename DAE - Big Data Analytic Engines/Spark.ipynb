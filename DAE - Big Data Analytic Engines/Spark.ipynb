{
 "cells": [
  {
   "cell_type": "markdown",
   "id": "6f215b06-2c56-410a-8d87-1b1e24d42ef0",
   "metadata": {},
   "source": [
    "# Exercise #1\n",
    "Load the complete Shakespeare writings from here [1], strip the header (is there more to clean?) and search for the #24 most used word in his writings! Provide your code in one pdf, txt or by one link."
   ]
  },
  {
   "cell_type": "code",
   "execution_count": 1,
   "id": "fa7f79c2-8627-4728-8f17-fc6f7b66b2b9",
   "metadata": {},
   "outputs": [],
   "source": [
    "import sys\n",
    "from operator import add\n",
    "import findspark\n",
    "\n",
    "from pyspark import SparkConf, SparkContext"
   ]
  },
  {
   "cell_type": "code",
   "execution_count": 2,
   "id": "e6a8ee3b-9f33-4550-9228-d9513ea3a6e6",
   "metadata": {},
   "outputs": [],
   "source": [
    "findspark.init()"
   ]
  },
  {
   "cell_type": "code",
   "execution_count": 3,
   "id": "0abd5f1f-eaba-402b-913f-44419bb27fc0",
   "metadata": {},
   "outputs": [],
   "source": [
    "conf = SparkConf().setAppName(\"word count\").setMaster(\"local[2]\")\n",
    "sc = SparkContext(conf = conf)"
   ]
  },
  {
   "cell_type": "code",
   "execution_count": 4,
   "id": "c6d8f089-cfe6-4ef4-8071-a57a65327880",
   "metadata": {},
   "outputs": [
    {
     "data": {
      "text/plain": [
       "'as'"
      ]
     },
     "execution_count": 4,
     "metadata": {},
     "output_type": "execute_result"
    }
   ],
   "source": [
    "lines = sc.textFile(\"t8.shakespeare.txt\")\n",
    "cleaned = lines.mapPartitionsWithIndex(lambda id_x, iter: list(iter)[253:] if(id_x == 0) else iter)\n",
    "words = cleaned.flatMap(lambda line: line.split(\" \")).map(lambda line: line.strip()).filter(lambda line: (line not in ['', ' ', ',', '.', '!', '?']) and (not line.isnumeric()))\n",
    "wordCounts = words.countByValue()\n",
    "sortedCounts = dict(sorted(wordCounts.items(), key=lambda item: item[1], reverse=True))\n",
    "\n",
    "list(sortedCounts)[23]"
   ]
  },
  {
   "cell_type": "markdown",
   "id": "74c859c6-4e91-4b76-9c2c-1f4b22bdb1d9",
   "metadata": {},
   "source": [
    "The 24th most used word is \"as\"."
   ]
  }
 ],
 "metadata": {
  "kernelspec": {
   "display_name": "Python 3 (ipykernel)",
   "language": "python",
   "name": "python3"
  },
  "language_info": {
   "codemirror_mode": {
    "name": "ipython",
    "version": 3
   },
   "file_extension": ".py",
   "mimetype": "text/x-python",
   "name": "python",
   "nbconvert_exporter": "python",
   "pygments_lexer": "ipython3",
   "version": "3.9.12"
  }
 },
 "nbformat": 4,
 "nbformat_minor": 5
}
