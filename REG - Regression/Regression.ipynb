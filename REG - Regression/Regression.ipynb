{
 "cells": [
  {
   "cell_type": "code",
   "execution_count": 1,
   "id": "06fa0f28-7d1a-4d80-8e65-4d43d79cf039",
   "metadata": {},
   "outputs": [],
   "source": [
    "import pandas as pd\n",
    "import numpy as np\n",
    "from sklearn import datasets\n",
    "from sklearn.linear_model import LogisticRegression, LinearRegression\n",
    "import matplotlib.pyplot as plt"
   ]
  },
  {
   "cell_type": "markdown",
   "id": "988c50b4-f479-4eae-afa1-61756df41263",
   "metadata": {},
   "source": [
    "# Exercise 1: Linear Regression\n",
    "Make up your own personal dataset and predict the regression curve.  \n",
    "Be a little creative here. Find your own data!  \n",
    "  \n",
    "Used dataset: https://www.kaggle.com/datasets/kumarajarshi/life-expectancy-who"
   ]
  },
  {
   "cell_type": "code",
   "execution_count": 2,
   "id": "c6911b1f-87db-4067-92a6-b651d048d660",
   "metadata": {},
   "outputs": [
    {
     "data": {
      "text/plain": [
       "Index(['Life expectancy', 'Alcohol', 'Population', 'HIV/AIDS'], dtype='object')"
      ]
     },
     "execution_count": 2,
     "metadata": {},
     "output_type": "execute_result"
    }
   ],
   "source": [
    "df = pd.read_csv('Life Expectancy Data.csv', sep=',', names=['Life expectancy', 'Alcohol', 'Population', 'HIV/AIDS'])\n",
    "df.columns"
   ]
  },
  {
   "cell_type": "markdown",
   "id": "bff9e351-fd71-41c4-a512-28dee8ce7c88",
   "metadata": {},
   "source": [
    "## Clean data"
   ]
  },
  {
   "cell_type": "code",
   "execution_count": 3,
   "id": "ea28fb6d-746e-4633-9cac-62fcc0bae74b",
   "metadata": {},
   "outputs": [
    {
     "data": {
      "text/html": [
       "<div>\n",
       "<style scoped>\n",
       "    .dataframe tbody tr th:only-of-type {\n",
       "        vertical-align: middle;\n",
       "    }\n",
       "\n",
       "    .dataframe tbody tr th {\n",
       "        vertical-align: top;\n",
       "    }\n",
       "\n",
       "    .dataframe thead th {\n",
       "        text-align: right;\n",
       "    }\n",
       "</style>\n",
       "<table border=\"1\" class=\"dataframe\">\n",
       "  <thead>\n",
       "    <tr style=\"text-align: right;\">\n",
       "      <th></th>\n",
       "      <th></th>\n",
       "      <th></th>\n",
       "      <th></th>\n",
       "      <th></th>\n",
       "      <th></th>\n",
       "      <th></th>\n",
       "      <th></th>\n",
       "      <th></th>\n",
       "      <th></th>\n",
       "      <th></th>\n",
       "      <th></th>\n",
       "      <th></th>\n",
       "      <th></th>\n",
       "      <th></th>\n",
       "      <th></th>\n",
       "      <th></th>\n",
       "      <th></th>\n",
       "      <th>Life expectancy</th>\n",
       "      <th>Alcohol</th>\n",
       "      <th>Population</th>\n",
       "      <th>HIV/AIDS</th>\n",
       "    </tr>\n",
       "  </thead>\n",
       "  <tbody>\n",
       "    <tr>\n",
       "      <th rowspan=\"5\" valign=\"top\">Afghanistan</th>\n",
       "      <th>2015</th>\n",
       "      <th>Developing</th>\n",
       "      <th>65</th>\n",
       "      <th>263</th>\n",
       "      <th>62</th>\n",
       "      <th>0.01</th>\n",
       "      <th>71.27962362</th>\n",
       "      <th>65</th>\n",
       "      <th>1154</th>\n",
       "      <th>19.1</th>\n",
       "      <th>83</th>\n",
       "      <th>6</th>\n",
       "      <th>8.16</th>\n",
       "      <th>65</th>\n",
       "      <th>0.1</th>\n",
       "      <th>584.25921</th>\n",
       "      <th>33736494</th>\n",
       "      <td>17.2</td>\n",
       "      <td>17.3</td>\n",
       "      <td>0.479</td>\n",
       "      <td>10.1</td>\n",
       "    </tr>\n",
       "    <tr>\n",
       "      <th>2014</th>\n",
       "      <th>Developing</th>\n",
       "      <th>59.9</th>\n",
       "      <th>271</th>\n",
       "      <th>64</th>\n",
       "      <th>0.01</th>\n",
       "      <th>73.52358168</th>\n",
       "      <th>62</th>\n",
       "      <th>492</th>\n",
       "      <th>18.6</th>\n",
       "      <th>86</th>\n",
       "      <th>58</th>\n",
       "      <th>8.18</th>\n",
       "      <th>62</th>\n",
       "      <th>0.1</th>\n",
       "      <th>612.696514</th>\n",
       "      <th>327582</th>\n",
       "      <td>17.5</td>\n",
       "      <td>17.5</td>\n",
       "      <td>0.476</td>\n",
       "      <td>10</td>\n",
       "    </tr>\n",
       "    <tr>\n",
       "      <th>2013</th>\n",
       "      <th>Developing</th>\n",
       "      <th>59.9</th>\n",
       "      <th>268</th>\n",
       "      <th>66</th>\n",
       "      <th>0.01</th>\n",
       "      <th>73.21924272</th>\n",
       "      <th>64</th>\n",
       "      <th>430</th>\n",
       "      <th>18.1</th>\n",
       "      <th>89</th>\n",
       "      <th>62</th>\n",
       "      <th>8.13</th>\n",
       "      <th>64</th>\n",
       "      <th>0.1</th>\n",
       "      <th>631.744976</th>\n",
       "      <th>31731688</th>\n",
       "      <td>17.7</td>\n",
       "      <td>17.7</td>\n",
       "      <td>0.47</td>\n",
       "      <td>9.9</td>\n",
       "    </tr>\n",
       "    <tr>\n",
       "      <th>2012</th>\n",
       "      <th>Developing</th>\n",
       "      <th>59.5</th>\n",
       "      <th>272</th>\n",
       "      <th>69</th>\n",
       "      <th>0.01</th>\n",
       "      <th>78.1842153</th>\n",
       "      <th>67</th>\n",
       "      <th>2787</th>\n",
       "      <th>17.6</th>\n",
       "      <th>93</th>\n",
       "      <th>67</th>\n",
       "      <th>8.52</th>\n",
       "      <th>67</th>\n",
       "      <th>0.1</th>\n",
       "      <th>669.959</th>\n",
       "      <th>3696958</th>\n",
       "      <td>17.9</td>\n",
       "      <td>18</td>\n",
       "      <td>0.463</td>\n",
       "      <td>9.8</td>\n",
       "    </tr>\n",
       "    <tr>\n",
       "      <th>2011</th>\n",
       "      <th>Developing</th>\n",
       "      <th>59.2</th>\n",
       "      <th>275</th>\n",
       "      <th>71</th>\n",
       "      <th>0.01</th>\n",
       "      <th>7.097108703</th>\n",
       "      <th>68</th>\n",
       "      <th>3013</th>\n",
       "      <th>17.2</th>\n",
       "      <th>97</th>\n",
       "      <th>68</th>\n",
       "      <th>7.87</th>\n",
       "      <th>68</th>\n",
       "      <th>0.1</th>\n",
       "      <th>63.537231</th>\n",
       "      <th>2978599</th>\n",
       "      <td>18.2</td>\n",
       "      <td>18.2</td>\n",
       "      <td>0.454</td>\n",
       "      <td>9.5</td>\n",
       "    </tr>\n",
       "    <tr>\n",
       "      <th>...</th>\n",
       "      <th>...</th>\n",
       "      <th>...</th>\n",
       "      <th>...</th>\n",
       "      <th>...</th>\n",
       "      <th>...</th>\n",
       "      <th>...</th>\n",
       "      <th>...</th>\n",
       "      <th>...</th>\n",
       "      <th>...</th>\n",
       "      <th>...</th>\n",
       "      <th>...</th>\n",
       "      <th>...</th>\n",
       "      <th>...</th>\n",
       "      <th>...</th>\n",
       "      <th>...</th>\n",
       "      <th>...</th>\n",
       "      <th>...</th>\n",
       "      <td>...</td>\n",
       "      <td>...</td>\n",
       "      <td>...</td>\n",
       "      <td>...</td>\n",
       "    </tr>\n",
       "    <tr>\n",
       "      <th rowspan=\"5\" valign=\"top\">Zimbabwe</th>\n",
       "      <th>2004</th>\n",
       "      <th>Developing</th>\n",
       "      <th>44.3</th>\n",
       "      <th>723</th>\n",
       "      <th>27</th>\n",
       "      <th>4.36</th>\n",
       "      <th>0</th>\n",
       "      <th>68</th>\n",
       "      <th>31</th>\n",
       "      <th>27.1</th>\n",
       "      <th>42</th>\n",
       "      <th>67</th>\n",
       "      <th>7.13</th>\n",
       "      <th>65</th>\n",
       "      <th>33.6</th>\n",
       "      <th>454.366654</th>\n",
       "      <th>12777511</th>\n",
       "      <td>9.4</td>\n",
       "      <td>9.4</td>\n",
       "      <td>0.407</td>\n",
       "      <td>9.2</td>\n",
       "    </tr>\n",
       "    <tr>\n",
       "      <th>2003</th>\n",
       "      <th>Developing</th>\n",
       "      <th>44.5</th>\n",
       "      <th>715</th>\n",
       "      <th>26</th>\n",
       "      <th>4.06</th>\n",
       "      <th>0</th>\n",
       "      <th>7</th>\n",
       "      <th>998</th>\n",
       "      <th>26.7</th>\n",
       "      <th>41</th>\n",
       "      <th>7</th>\n",
       "      <th>6.52</th>\n",
       "      <th>68</th>\n",
       "      <th>36.7</th>\n",
       "      <th>453.3511552</th>\n",
       "      <th>12633897</th>\n",
       "      <td>9.8</td>\n",
       "      <td>9.9</td>\n",
       "      <td>0.418</td>\n",
       "      <td>9.5</td>\n",
       "    </tr>\n",
       "    <tr>\n",
       "      <th>2002</th>\n",
       "      <th>Developing</th>\n",
       "      <th>44.8</th>\n",
       "      <th>73</th>\n",
       "      <th>25</th>\n",
       "      <th>4.43</th>\n",
       "      <th>0</th>\n",
       "      <th>73</th>\n",
       "      <th>304</th>\n",
       "      <th>26.3</th>\n",
       "      <th>40</th>\n",
       "      <th>73</th>\n",
       "      <th>6.53</th>\n",
       "      <th>71</th>\n",
       "      <th>39.8</th>\n",
       "      <th>57.34834</th>\n",
       "      <th>125525</th>\n",
       "      <td>1.2</td>\n",
       "      <td>1.3</td>\n",
       "      <td>0.427</td>\n",
       "      <td>10</td>\n",
       "    </tr>\n",
       "    <tr>\n",
       "      <th>2001</th>\n",
       "      <th>Developing</th>\n",
       "      <th>45.3</th>\n",
       "      <th>686</th>\n",
       "      <th>25</th>\n",
       "      <th>1.72</th>\n",
       "      <th>0</th>\n",
       "      <th>76</th>\n",
       "      <th>529</th>\n",
       "      <th>25.9</th>\n",
       "      <th>39</th>\n",
       "      <th>76</th>\n",
       "      <th>6.16</th>\n",
       "      <th>75</th>\n",
       "      <th>42.1</th>\n",
       "      <th>548.587312</th>\n",
       "      <th>12366165</th>\n",
       "      <td>1.6</td>\n",
       "      <td>1.7</td>\n",
       "      <td>0.427</td>\n",
       "      <td>9.8</td>\n",
       "    </tr>\n",
       "    <tr>\n",
       "      <th>2000</th>\n",
       "      <th>Developing</th>\n",
       "      <th>46</th>\n",
       "      <th>665</th>\n",
       "      <th>24</th>\n",
       "      <th>1.68</th>\n",
       "      <th>0</th>\n",
       "      <th>79</th>\n",
       "      <th>1483</th>\n",
       "      <th>25.5</th>\n",
       "      <th>39</th>\n",
       "      <th>78</th>\n",
       "      <th>7.1</th>\n",
       "      <th>78</th>\n",
       "      <th>43.5</th>\n",
       "      <th>547.3588785</th>\n",
       "      <th>12222251</th>\n",
       "      <td>11</td>\n",
       "      <td>11.2</td>\n",
       "      <td>0.434</td>\n",
       "      <td>9.8</td>\n",
       "    </tr>\n",
       "  </tbody>\n",
       "</table>\n",
       "<p>2739 rows × 4 columns</p>\n",
       "</div>"
      ],
      "text/plain": [
       "                                                                                                              Life expectancy  \\\n",
       "Afghanistan 2015 Developing 65   263 62 0.01 71.27962362 65 1154 19.1 83 6  8.16 65 0.1  584.25921   33736494            17.2   \n",
       "            2014 Developing 59.9 271 64 0.01 73.52358168 62 492  18.6 86 58 8.18 62 0.1  612.696514  327582              17.5   \n",
       "            2013 Developing 59.9 268 66 0.01 73.21924272 64 430  18.1 89 62 8.13 64 0.1  631.744976  31731688            17.7   \n",
       "            2012 Developing 59.5 272 69 0.01 78.1842153  67 2787 17.6 93 67 8.52 67 0.1  669.959     3696958             17.9   \n",
       "            2011 Developing 59.2 275 71 0.01 7.097108703 68 3013 17.2 97 68 7.87 68 0.1  63.537231   2978599             18.2   \n",
       "...                                                                                                                       ...   \n",
       "Zimbabwe    2004 Developing 44.3 723 27 4.36 0           68 31   27.1 42 67 7.13 65 33.6 454.366654  12777511             9.4   \n",
       "            2003 Developing 44.5 715 26 4.06 0           7  998  26.7 41 7  6.52 68 36.7 453.3511552 12633897             9.8   \n",
       "            2002 Developing 44.8 73  25 4.43 0           73 304  26.3 40 73 6.53 71 39.8 57.34834    125525               1.2   \n",
       "            2001 Developing 45.3 686 25 1.72 0           76 529  25.9 39 76 6.16 75 42.1 548.587312  12366165             1.6   \n",
       "            2000 Developing 46   665 24 1.68 0           79 1483 25.5 39 78 7.1  78 43.5 547.3588785 12222251              11   \n",
       "\n",
       "                                                                                                              Alcohol  \\\n",
       "Afghanistan 2015 Developing 65   263 62 0.01 71.27962362 65 1154 19.1 83 6  8.16 65 0.1  584.25921   33736494    17.3   \n",
       "            2014 Developing 59.9 271 64 0.01 73.52358168 62 492  18.6 86 58 8.18 62 0.1  612.696514  327582      17.5   \n",
       "            2013 Developing 59.9 268 66 0.01 73.21924272 64 430  18.1 89 62 8.13 64 0.1  631.744976  31731688    17.7   \n",
       "            2012 Developing 59.5 272 69 0.01 78.1842153  67 2787 17.6 93 67 8.52 67 0.1  669.959     3696958       18   \n",
       "            2011 Developing 59.2 275 71 0.01 7.097108703 68 3013 17.2 97 68 7.87 68 0.1  63.537231   2978599     18.2   \n",
       "...                                                                                                               ...   \n",
       "Zimbabwe    2004 Developing 44.3 723 27 4.36 0           68 31   27.1 42 67 7.13 65 33.6 454.366654  12777511     9.4   \n",
       "            2003 Developing 44.5 715 26 4.06 0           7  998  26.7 41 7  6.52 68 36.7 453.3511552 12633897     9.9   \n",
       "            2002 Developing 44.8 73  25 4.43 0           73 304  26.3 40 73 6.53 71 39.8 57.34834    125525       1.3   \n",
       "            2001 Developing 45.3 686 25 1.72 0           76 529  25.9 39 76 6.16 75 42.1 548.587312  12366165     1.7   \n",
       "            2000 Developing 46   665 24 1.68 0           79 1483 25.5 39 78 7.1  78 43.5 547.3588785 12222251    11.2   \n",
       "\n",
       "                                                                                                              Population  \\\n",
       "Afghanistan 2015 Developing 65   263 62 0.01 71.27962362 65 1154 19.1 83 6  8.16 65 0.1  584.25921   33736494      0.479   \n",
       "            2014 Developing 59.9 271 64 0.01 73.52358168 62 492  18.6 86 58 8.18 62 0.1  612.696514  327582        0.476   \n",
       "            2013 Developing 59.9 268 66 0.01 73.21924272 64 430  18.1 89 62 8.13 64 0.1  631.744976  31731688       0.47   \n",
       "            2012 Developing 59.5 272 69 0.01 78.1842153  67 2787 17.6 93 67 8.52 67 0.1  669.959     3696958       0.463   \n",
       "            2011 Developing 59.2 275 71 0.01 7.097108703 68 3013 17.2 97 68 7.87 68 0.1  63.537231   2978599       0.454   \n",
       "...                                                                                                                  ...   \n",
       "Zimbabwe    2004 Developing 44.3 723 27 4.36 0           68 31   27.1 42 67 7.13 65 33.6 454.366654  12777511      0.407   \n",
       "            2003 Developing 44.5 715 26 4.06 0           7  998  26.7 41 7  6.52 68 36.7 453.3511552 12633897      0.418   \n",
       "            2002 Developing 44.8 73  25 4.43 0           73 304  26.3 40 73 6.53 71 39.8 57.34834    125525        0.427   \n",
       "            2001 Developing 45.3 686 25 1.72 0           76 529  25.9 39 76 6.16 75 42.1 548.587312  12366165      0.427   \n",
       "            2000 Developing 46   665 24 1.68 0           79 1483 25.5 39 78 7.1  78 43.5 547.3588785 12222251      0.434   \n",
       "\n",
       "                                                                                                              HIV/AIDS  \n",
       "Afghanistan 2015 Developing 65   263 62 0.01 71.27962362 65 1154 19.1 83 6  8.16 65 0.1  584.25921   33736494     10.1  \n",
       "            2014 Developing 59.9 271 64 0.01 73.52358168 62 492  18.6 86 58 8.18 62 0.1  612.696514  327582         10  \n",
       "            2013 Developing 59.9 268 66 0.01 73.21924272 64 430  18.1 89 62 8.13 64 0.1  631.744976  31731688      9.9  \n",
       "            2012 Developing 59.5 272 69 0.01 78.1842153  67 2787 17.6 93 67 8.52 67 0.1  669.959     3696958       9.8  \n",
       "            2011 Developing 59.2 275 71 0.01 7.097108703 68 3013 17.2 97 68 7.87 68 0.1  63.537231   2978599       9.5  \n",
       "...                                                                                                                ...  \n",
       "Zimbabwe    2004 Developing 44.3 723 27 4.36 0           68 31   27.1 42 67 7.13 65 33.6 454.366654  12777511      9.2  \n",
       "            2003 Developing 44.5 715 26 4.06 0           7  998  26.7 41 7  6.52 68 36.7 453.3511552 12633897      9.5  \n",
       "            2002 Developing 44.8 73  25 4.43 0           73 304  26.3 40 73 6.53 71 39.8 57.34834    125525         10  \n",
       "            2001 Developing 45.3 686 25 1.72 0           76 529  25.9 39 76 6.16 75 42.1 548.587312  12366165      9.8  \n",
       "            2000 Developing 46   665 24 1.68 0           79 1483 25.5 39 78 7.1  78 43.5 547.3588785 12222251      9.8  \n",
       "\n",
       "[2739 rows x 4 columns]"
      ]
     },
     "execution_count": 3,
     "metadata": {},
     "output_type": "execute_result"
    }
   ],
   "source": [
    "df = df[pd.to_numeric(df['Life expectancy'], errors='coerce').notnull()]\n",
    "df = df[pd.to_numeric(df['Alcohol'], errors='coerce').notnull()]\n",
    "df = df.dropna()\n",
    "df"
   ]
  },
  {
   "cell_type": "code",
   "execution_count": 4,
   "id": "cee37866-0efc-4997-917c-8a8121d090ae",
   "metadata": {},
   "outputs": [],
   "source": [
    "X_Alcohol = df.loc[:, 'Alcohol']\n",
    "y = df.loc[:, 'Life expectancy']"
   ]
  },
  {
   "cell_type": "code",
   "execution_count": 5,
   "id": "336a7ae6-cf30-4970-a978-23ece1ead172",
   "metadata": {},
   "outputs": [],
   "source": [
    "X_Alcohol_train = X_Alcohol[:-20]\n",
    "X_Alcohol_test = X_Alcohol[-20:]\n",
    "\n",
    "y_train = y[:-20]\n",
    "y_test = y[-20:]"
   ]
  },
  {
   "cell_type": "code",
   "execution_count": 6,
   "id": "18a6c4b0-c31d-4e5f-a077-417982c654d4",
   "metadata": {},
   "outputs": [
    {
     "data": {
      "text/plain": [
       "LinearRegression()"
      ]
     },
     "execution_count": 6,
     "metadata": {},
     "output_type": "execute_result"
    }
   ],
   "source": [
    "regression = LinearRegression()\n",
    "regression.fit(np.array(X_Alcohol_train).reshape(-1, 1), y_train)"
   ]
  },
  {
   "cell_type": "markdown",
   "id": "1b6d6062-d7bb-4ae3-8c26-5433046d0550",
   "metadata": {},
   "source": [
    "## Predict Life expectancy by Alcohol level"
   ]
  },
  {
   "cell_type": "code",
   "execution_count": 7,
   "id": "fb5430e7-0439-402d-b27b-94f4c8eddace",
   "metadata": {},
   "outputs": [
    {
     "data": {
      "image/png": "[encoded data removed]",
      "text/plain": [
       "<Figure size 432x288 with 1 Axes>"
      ]
     },
     "metadata": {
      "needs_background": "light"
     },
     "output_type": "display_data"
    }
   ],
   "source": [
    "y_predict = regression.predict(np.array(X_Alcohol_test).reshape(-1, 1))\n",
    "plt.scatter(X_Alcohol_test, y_test, color=\"black\")\n",
    "plt.plot(X_Alcohol_test, y_predict, color=\"blue\", linewidth=3)\n",
    "\n",
    "plt.show()"
   ]
  },
  {
   "cell_type": "markdown",
   "id": "6922cef9-8c65-493c-97e2-23385893957a",
   "metadata": {},
   "source": [
    "It seems, there is no real connection between alcohol and the life expectancy"
   ]
  },
  {
   "cell_type": "markdown",
   "id": "0d101ad1-1c79-488d-bd74-77ddbe92bd84",
   "metadata": {},
   "source": [
    "# Exercise 2: Logistic Regression\n",
    "You are walking in the forest and see an iris and measure:  \n",
    "4.8,2.5,5.3,2.4  \n",
    "Is this an Iris Virginica or not?  \n",
    "\n",
    "The absolute minimum is to derive 4 probabilities for each feature.  \n",
    "But it would be best to evaluate all 4 values in a (combined) equation to get one single probability for Iris Virginica!"
   ]
  },
  {
   "cell_type": "code",
   "execution_count": 8,
   "id": "9f8c824f-bf00-4bfe-8ac3-e748fdef24e9",
   "metadata": {},
   "outputs": [],
   "source": [
    "iris = datasets.load_iris()\n",
    "test = np.array([4.8,2.5,5.3,2.4])"
   ]
  },
  {
   "cell_type": "markdown",
   "id": "7e3cd6ed-b6c7-4ac0-8492-378d739b8dea",
   "metadata": {},
   "source": [
    "## Predict with first feature"
   ]
  },
  {
   "cell_type": "code",
   "execution_count": 9,
   "id": "a2e2948f-c5f0-482a-9381-1ba41fc6cec1",
   "metadata": {},
   "outputs": [],
   "source": [
    "X = iris[\"data\"][:, 0].reshape(-1, 1)\n",
    "y = (iris[\"target\"] == 2).astype(int)"
   ]
  },
  {
   "cell_type": "code",
   "execution_count": 10,
   "id": "130e356f-c1c1-46da-a4d2-6b5cf0aa72da",
   "metadata": {},
   "outputs": [
    {
     "data": {
      "text/plain": [
       "LogisticRegression()"
      ]
     },
     "execution_count": 10,
     "metadata": {},
     "output_type": "execute_result"
    }
   ],
   "source": [
    "# All features\n",
    "log_reg = LogisticRegression()\n",
    "log_reg.fit(X,y)"
   ]
  },
  {
   "cell_type": "code",
   "execution_count": 11,
   "id": "5610dc7a-40da-455f-a694-91296883b188",
   "metadata": {},
   "outputs": [
    {
     "data": {
      "text/plain": [
       "array([[0.96762366, 0.03237634]])"
      ]
     },
     "execution_count": 11,
     "metadata": {},
     "output_type": "execute_result"
    }
   ],
   "source": [
    "log_reg.predict_proba(test[0].reshape(-1, 1))"
   ]
  },
  {
   "cell_type": "markdown",
   "id": "8d84743d-6c7a-492a-8356-8de91b47f3e9",
   "metadata": {},
   "source": [
    "Based on only the petal length, the probability of the flower with the provided data being an Iris virginica is **3.24%**."
   ]
  },
  {
   "cell_type": "markdown",
   "id": "99bfcde0-1f07-4bd8-8abf-dcbcd94f0e29",
   "metadata": {
    "tags": []
   },
   "source": [
    "## Predict with second feature"
   ]
  },
  {
   "cell_type": "code",
   "execution_count": 12,
   "id": "5c867fb2-c6c2-4792-9637-a85c73989b9a",
   "metadata": {},
   "outputs": [],
   "source": [
    "X = iris[\"data\"][:, 1].reshape(-1, 1)\n",
    "y = (iris[\"target\"] == 2).astype(int)"
   ]
  },
  {
   "cell_type": "code",
   "execution_count": 13,
   "id": "85becfa8-7538-48c3-b3eb-927494c931a3",
   "metadata": {},
   "outputs": [
    {
     "data": {
      "text/plain": [
       "LogisticRegression()"
      ]
     },
     "execution_count": 13,
     "metadata": {},
     "output_type": "execute_result"
    }
   ],
   "source": [
    "# All features\n",
    "log_reg = LogisticRegression()\n",
    "log_reg.fit(X,y)"
   ]
  },
  {
   "cell_type": "code",
   "execution_count": 14,
   "id": "e3036af2-9c6c-4b53-a9d8-2dedf2bbe7d6",
   "metadata": {},
   "outputs": [
    {
     "data": {
      "text/plain": [
       "array([[0.5933503, 0.4066497]])"
      ]
     },
     "execution_count": 14,
     "metadata": {},
     "output_type": "execute_result"
    }
   ],
   "source": [
    "log_reg.predict_proba(test[1].reshape(-1, 1))"
   ]
  },
  {
   "cell_type": "markdown",
   "id": "a706131b-5d95-4767-adb8-29a4ce0f9ee3",
   "metadata": {},
   "source": [
    "Based on only the petal width, the probability of the flower with the provided data being an Iris virginica is **40.67%**."
   ]
  },
  {
   "cell_type": "markdown",
   "id": "b4dd6e89-db60-44ac-b63e-ee3f14fd8367",
   "metadata": {
    "tags": []
   },
   "source": [
    "## Predict with third feature"
   ]
  },
  {
   "cell_type": "code",
   "execution_count": 15,
   "id": "6280aecc-533c-46b1-b6db-8f35b05e2a0c",
   "metadata": {
    "tags": []
   },
   "outputs": [],
   "source": [
    "X = iris[\"data\"][:, 2].reshape(-1, 1)\n",
    "y = (iris[\"target\"] == 2).astype(int)"
   ]
  },
  {
   "cell_type": "code",
   "execution_count": 16,
   "id": "619372ef-7f3c-4ee4-b18c-99d95316c1e6",
   "metadata": {},
   "outputs": [
    {
     "data": {
      "text/plain": [
       "LogisticRegression()"
      ]
     },
     "execution_count": 16,
     "metadata": {},
     "output_type": "execute_result"
    }
   ],
   "source": [
    "# All features\n",
    "log_reg = LogisticRegression()\n",
    "log_reg.fit(X,y)"
   ]
  },
  {
   "cell_type": "code",
   "execution_count": 17,
   "id": "a0731382-4c15-4956-9dee-ab5fe2525fac",
   "metadata": {},
   "outputs": [
    {
     "data": {
      "text/plain": [
       "array([[0.17910091, 0.82089909]])"
      ]
     },
     "execution_count": 17,
     "metadata": {},
     "output_type": "execute_result"
    }
   ],
   "source": [
    "log_reg.predict_proba(test[2].reshape(-1, 1))"
   ]
  },
  {
   "cell_type": "markdown",
   "id": "371dd67e-5c36-4bb9-b4cf-1a5a1b90f80d",
   "metadata": {},
   "source": [
    "Based on only the sepal length, the probability of the flower with the provided data being an Iris virginica is **82.09%**."
   ]
  },
  {
   "cell_type": "markdown",
   "id": "014c15c8-baaf-49eb-a815-711e19e3b32d",
   "metadata": {
    "tags": []
   },
   "source": [
    "## Predict with fourth feature"
   ]
  },
  {
   "cell_type": "code",
   "execution_count": 18,
   "id": "718adef1-b869-4633-9255-13be1c5e992d",
   "metadata": {
    "tags": []
   },
   "outputs": [],
   "source": [
    "X = iris[\"data\"][:, 3].reshape(-1, 1)\n",
    "y = (iris[\"target\"] == 2).astype(int)"
   ]
  },
  {
   "cell_type": "code",
   "execution_count": 19,
   "id": "03acb979-e3fb-4f2a-b063-890ef568296b",
   "metadata": {},
   "outputs": [
    {
     "data": {
      "text/plain": [
       "LogisticRegression()"
      ]
     },
     "execution_count": 19,
     "metadata": {},
     "output_type": "execute_result"
    }
   ],
   "source": [
    "# All features\n",
    "log_reg = LogisticRegression()\n",
    "log_reg.fit(X,y)"
   ]
  },
  {
   "cell_type": "code",
   "execution_count": 20,
   "id": "7b19d639-e5d1-46b9-92f0-c29dc3f5ef62",
   "metadata": {},
   "outputs": [
    {
     "data": {
      "text/plain": [
       "array([[0.03898943, 0.96101057]])"
      ]
     },
     "execution_count": 20,
     "metadata": {},
     "output_type": "execute_result"
    }
   ],
   "source": [
    "log_reg.predict_proba(test[3].reshape(-1, 1))"
   ]
  },
  {
   "cell_type": "markdown",
   "id": "cdb6d4a4-ac10-4f9d-a7d8-b2b6599402b5",
   "metadata": {},
   "source": [
    "Based on only the sepal width, the probability of the flower with the provided data being an Iris virginica is **96.1%**."
   ]
  },
  {
   "cell_type": "markdown",
   "id": "6e541635-025e-4231-9e4b-a3dbae82e6c2",
   "metadata": {
    "tags": []
   },
   "source": [
    "## Predict with all features"
   ]
  },
  {
   "cell_type": "code",
   "execution_count": 21,
   "id": "bb34d967-f486-409b-adc0-0734b77030d4",
   "metadata": {},
   "outputs": [],
   "source": [
    "X = iris[\"data\"][:, :]\n",
    "y = (iris[\"target\"] == 2).astype(int)"
   ]
  },
  {
   "cell_type": "code",
   "execution_count": 22,
   "id": "78ca6fa3-8882-482b-8584-8446fa010773",
   "metadata": {},
   "outputs": [
    {
     "data": {
      "text/plain": [
       "LogisticRegression()"
      ]
     },
     "execution_count": 22,
     "metadata": {},
     "output_type": "execute_result"
    }
   ],
   "source": [
    "# All features\n",
    "log_reg = LogisticRegression()\n",
    "log_reg.fit(X,y)"
   ]
  },
  {
   "cell_type": "code",
   "execution_count": 23,
   "id": "86d2ce8f-5807-4087-84cd-622b1697be82",
   "metadata": {},
   "outputs": [
    {
     "data": {
      "text/plain": [
       "array([[0.023505, 0.976495]])"
      ]
     },
     "execution_count": 23,
     "metadata": {},
     "output_type": "execute_result"
    }
   ],
   "source": [
    "log_reg.predict_proba(test.reshape(1, -1))"
   ]
  },
  {
   "cell_type": "markdown",
   "id": "be71f215-707a-46fe-b942-ae1b32ece152",
   "metadata": {},
   "source": [
    "Based on all features, the probability of the flower with the provided data being an Iris virginica is **97.65%**."
   ]
  }
 ],
 "metadata": {
  "kernelspec": {
   "display_name": "Python 3 (ipykernel)",
   "language": "python",
   "name": "python3"
  },
  "language_info": {
   "codemirror_mode": {
    "name": "ipython",
    "version": 3
   },
   "file_extension": ".py",
   "mimetype": "text/x-python",
   "name": "python",
   "nbconvert_exporter": "python",
   "pygments_lexer": "ipython3",
   "version": "3.9.12"
  }
 },
 "nbformat": 4,
 "nbformat_minor": 5
}
