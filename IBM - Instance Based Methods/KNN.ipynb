{
 "cells": [
  {
   "cell_type": "markdown",
   "id": "46e81900-8daa-4a61-929c-32a743673317",
   "metadata": {},
   "source": [
    "# Exercise 1\n",
    "Implement KNN by hand for just 2 dimensions with normalization.  \n",
    "  \n",
    "This is easy because:\n",
    "- funct: You normalize your data in another table\n",
    "- funct: You code a simple euclid distance function\n",
    "- funct: You take a point and calculate the distance to all points\n",
    "- funct: You take the list from above and sort it\n",
    "- funct: You aggregate by target variable\n",
    "- funct: you take the max to determine the targe class\n",
    "you are finished!  \n",
    "  \n",
    "Note: This is the only chance to implement a machine learning algorithm by hand and hence learn something from the ground up!  "
   ]
  },
  {
   "cell_type": "code",
   "execution_count": 1,
   "id": "85021e3a-e481-473f-b639-e01de5bc6c87",
   "metadata": {},
   "outputs": [],
   "source": [
    "import math\n",
    "import random\n",
    "from sklearn import datasets"
   ]
  },
  {
   "cell_type": "code",
   "execution_count": 2,
   "id": "b56d6c84-0db2-473e-af72-c64d3c0724d9",
   "metadata": {},
   "outputs": [],
   "source": [
    "iris = datasets.load_iris()\n",
    "data = iris.data\n",
    "labels = iris.target"
   ]
  },
  {
   "cell_type": "code",
   "execution_count": 3,
   "id": "f418d5ae-484d-4062-a4d1-8d94a291b10b",
   "metadata": {},
   "outputs": [],
   "source": [
    "indices = list(range(len(data)))\n",
    "random.shuffle(indices)\n",
    "\n",
    "n_training_samples = 12\n",
    "learn_data = data[indices[:-n_training_samples]]\n",
    "learn_labels = labels[indices[:-n_training_samples]]\n",
    "\n",
    "test_data = [4.8,2.5,5.3,2.4]"
   ]
  },
  {
   "cell_type": "code",
   "execution_count": 4,
   "id": "c03b5347-5bd3-4070-8304-e39a5ef9d2a3",
   "metadata": {},
   "outputs": [],
   "source": [
    "def distance(instance1, instance2):\n",
    "    distance = 0.0\n",
    "    for i in range(len(instance1) - 1):\n",
    "        distance += (instance1[i] - instance2[i]) ** 2\n",
    "    return math.sqrt(distance)"
   ]
  },
  {
   "cell_type": "code",
   "execution_count": 5,
   "id": "cd7cda01-0d81-45c8-922b-ea6cf326f2d6",
   "metadata": {},
   "outputs": [],
   "source": [
    "def get_neighbors(training_set, \n",
    "                  labels, \n",
    "                  test_instance, \n",
    "                  k, \n",
    "                  distance=distance):\n",
    "    \"\"\"\n",
    "    get_neighors calculates a list of the k nearest neighbors\n",
    "    of an instance 'test_instance'.\n",
    "    The list neighbors contains 3-tuples with  \n",
    "    (index, dist, label)\n",
    "    where \n",
    "    index    is the index from the training_set, \n",
    "    dist     is the distance between the test_instance and the \n",
    "             instance training_set[index]\n",
    "    distance is a reference to a function used to calculate the \n",
    "             distances\n",
    "    \"\"\"\n",
    "    distances = []\n",
    "    for index in range(len(training_set)):\n",
    "        dist = distance(test_instance, training_set[index])\n",
    "        distances.append((training_set[index], dist, labels[index]))\n",
    "    distances.sort(key=lambda x: x[1])\n",
    "    neighbors = distances[:k]\n",
    "    return neighbors"
   ]
  },
  {
   "cell_type": "code",
   "execution_count": 6,
   "id": "0b8f86bb-efdd-45c0-b14c-18ef93e14851",
   "metadata": {},
   "outputs": [],
   "source": [
    "def incr_dict(the_dict, key):\n",
    "    the_dict[key] = the_dict.get(key, 0) + 1"
   ]
  },
  {
   "cell_type": "code",
   "execution_count": 7,
   "id": "61f9326d-ee14-4f75-a56c-b4f63b7ed19d",
   "metadata": {},
   "outputs": [],
   "source": [
    "def vote(neighbors):\n",
    "    classes = dict()\n",
    "    for neighbor in neighbors:\n",
    "        incr_dict(classes, neighbor[2])\n",
    "        \n",
    "    return(max(classes, key=classes.get))"
   ]
  },
  {
   "cell_type": "code",
   "execution_count": 8,
   "id": "13d89cfe-c622-4b14-903e-77660d06b0f0",
   "metadata": {},
   "outputs": [
    {
     "data": {
      "text/plain": [
       "[(array([4.9, 2.5, 4.5, 1.7]), 0.8062257748298548, 2),\n",
       " (array([5.6, 2.8, 4.9, 2. ]), 0.9433981132056599, 2),\n",
       " (array([5.7, 2.5, 5. , 2. ]), 0.948683298050514, 2)]"
      ]
     },
     "execution_count": 8,
     "metadata": {},
     "output_type": "execute_result"
    }
   ],
   "source": [
    "neighbors = get_neighbors(learn_data, \n",
    "                          learn_labels, \n",
    "                          test_data, \n",
    "                          3, \n",
    "                          distance=distance)\n",
    "neighbors"
   ]
  },
  {
   "cell_type": "code",
   "execution_count": 9,
   "id": "40c48cec-074f-4e17-96f2-40f0e8b0b925",
   "metadata": {},
   "outputs": [
    {
     "name": "stdout",
     "output_type": "stream",
     "text": [
      "result of vote:  2 , data:  [4.8, 2.5, 5.3, 2.4] , label:  virginica\n"
     ]
    }
   ],
   "source": [
    "voted = vote(neighbors)\n",
    "print(\"result of vote: \", voted, \n",
    "      \", data: \", test_data,\n",
    "      \", label: \", iris.target_names[voted])"
   ]
  },
  {
   "cell_type": "markdown",
   "id": "4dc4ff42-411d-4ce7-af37-e97ec309961a",
   "metadata": {},
   "source": [
    "The flower has been classified as **virginica**"
   ]
  },
  {
   "cell_type": "markdown",
   "id": "1196e4bc-38cc-4041-ac6e-15525e8942de",
   "metadata": {},
   "source": [
    "# Exercise 2\n",
    "In the logistic regression example, I gave you a new iris data:  \n",
    "4.8,2.5,5.3,2.4  \n",
    "Please classify this flower using KNN (with all libs available as you like)"
   ]
  },
  {
   "cell_type": "code",
   "execution_count": 10,
   "id": "e3a66508-dca8-478b-a384-0f373adc760f",
   "metadata": {},
   "outputs": [],
   "source": [
    "import numpy as np"
   ]
  },
  {
   "cell_type": "code",
   "execution_count": 11,
   "id": "786a383a-5f0f-44a5-8e6c-55825fc477c1",
   "metadata": {},
   "outputs": [],
   "source": [
    "def distance(instance1, instance2):\n",
    "    instance1 = np.array(instance1) \n",
    "    instance2 = np.array(instance2)\n",
    "    \n",
    "    return np.linalg.norm(instance1 - instance2)"
   ]
  },
  {
   "cell_type": "code",
   "execution_count": 12,
   "id": "30c2e5f9-49d8-43ab-b1bd-77c59cb4ab78",
   "metadata": {},
   "outputs": [],
   "source": [
    "from collections import Counter\n",
    "def vote(neighbors):\n",
    "    class_counter = Counter()\n",
    "    for neighbor in neighbors:\n",
    "        class_counter[neighbor[2]] += 1\n",
    "    return class_counter.most_common(1)[0][0]"
   ]
  },
  {
   "cell_type": "code",
   "execution_count": 13,
   "id": "f66ca921-ac09-47d2-ba8b-0efa92c388ff",
   "metadata": {},
   "outputs": [
    {
     "data": {
      "text/plain": [
       "[(array([5.6, 2.8, 4.9, 2. ]), 1.0246950765959595, 2),\n",
       " (array([5.7, 2.5, 5. , 2. ]), 1.0295630140987002, 2),\n",
       " (array([5.8, 2.8, 5.1, 2.4]), 1.0630145812734648, 2)]"
      ]
     },
     "execution_count": 13,
     "metadata": {},
     "output_type": "execute_result"
    }
   ],
   "source": [
    "neighbors = get_neighbors(learn_data, \n",
    "                          learn_labels, \n",
    "                          test_data, \n",
    "                          3, \n",
    "                          distance=distance)\n",
    "neighbors"
   ]
  },
  {
   "cell_type": "code",
   "execution_count": 14,
   "id": "6fe56731-0d79-4574-97ac-6cef520e2976",
   "metadata": {},
   "outputs": [
    {
     "name": "stdout",
     "output_type": "stream",
     "text": [
      "result of vote:  2 , data:  [4.8, 2.5, 5.3, 2.4] , label:  virginica\n"
     ]
    }
   ],
   "source": [
    "voted = vote(neighbors)\n",
    "print(\"result of vote: \", voted, \n",
    "      \", data: \", test_data,\n",
    "      \", label: \", iris.target_names[voted])"
   ]
  },
  {
   "cell_type": "markdown",
   "id": "34244c70-1ec9-4251-bb2b-acc1c5629c8f",
   "metadata": {},
   "source": [
    "The flower has been classified as **virginica**"
   ]
  }
 ],
 "metadata": {
  "kernelspec": {
   "display_name": "Python 3 (ipykernel)",
   "language": "python",
   "name": "python3"
  },
  "language_info": {
   "codemirror_mode": {
    "name": "ipython",
    "version": 3
   },
   "file_extension": ".py",
   "mimetype": "text/x-python",
   "name": "python",
   "nbconvert_exporter": "python",
   "pygments_lexer": "ipython3",
   "version": "3.9.12"
  }
 },
 "nbformat": 4,
 "nbformat_minor": 5
}
