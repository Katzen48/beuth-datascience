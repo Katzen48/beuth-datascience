{
 "cells": [
  {
   "cell_type": "code",
   "execution_count": 1,
   "id": "5e1e7cea-bdb3-452e-8f46-f28e42620f59",
   "metadata": {},
   "outputs": [],
   "source": [
    "answer = 22 + 20"
   ]
  },
  {
   "cell_type": "code",
   "execution_count": 2,
   "id": "23eb784a-f911-4d8b-994a-69501191e662",
   "metadata": {},
   "outputs": [
    {
     "name": "stdout",
     "output_type": "stream",
     "text": [
      "42\n"
     ]
    }
   ],
   "source": [
    "print(answer)"
   ]
  },
  {
   "cell_type": "code",
   "execution_count": 3,
   "id": "ed07853c-843b-4815-a0cc-0ebc3dc6c037",
   "metadata": {},
   "outputs": [
    {
     "name": "stdout",
     "output_type": "stream",
     "text": [
      "Hello\n",
      "World\n"
     ]
    }
   ],
   "source": [
    "for item in [\"Hello\", \"World\"]:\n",
    "    print(item)"
   ]
  },
  {
   "cell_type": "code",
   "execution_count": 4,
   "id": "52aa51b7-ce8b-4446-b265-b1aa92f4cd7b",
   "metadata": {},
   "outputs": [
    {
     "name": "stdout",
     "output_type": "stream",
     "text": [
      "keyA 7\n",
      "keyB 42\n",
      "keyC 137\n"
     ]
    }
   ],
   "source": [
    "x = {'keyA': 7, 'keyB': 42, 'keyC': 137}\n",
    "for key, value in x.items():\n",
    "  print(key, value)"
   ]
  },
  {
   "cell_type": "code",
   "execution_count": 5,
   "id": "9dd5f236-d623-46a8-b99b-ce86093cb1fe",
   "metadata": {},
   "outputs": [
    {
     "name": "stdout",
     "output_type": "stream",
     "text": [
      "The sense of life is 42\n"
     ]
    }
   ],
   "source": [
    "print(\"The sense of life is \" + str(42))"
   ]
  },
  {
   "cell_type": "code",
   "execution_count": 6,
   "id": "6fc187bc-e7b6-4eb1-998e-dc09c7ff9adb",
   "metadata": {},
   "outputs": [],
   "source": [
    "biglist = (x ** 2 for x in range(100))"
   ]
  },
  {
   "cell_type": "code",
   "execution_count": 7,
   "id": "5694b4c8-4a0f-4b20-ae22-464bca9baafa",
   "metadata": {},
   "outputs": [
    {
     "name": "stdout",
     "output_type": "stream",
     "text": [
      "[0, 1, 4, 9, 16, 25, 36, 49, 64, 81, 100, 121, 144, 169, 196, 225, 256, 289, 324, 361, 400, 441, 484, 529, 576, 625, 676, 729, 784, 841, 900, 961, 1024, 1089, 1156, 1225, 1296, 1369, 1444, 1521, 1600, 1681, 1764, 1849, 1936, 2025, 2116, 2209, 2304, 2401, 2500, 2601, 2704, 2809, 2916, 3025, 3136, 3249, 3364, 3481, 3600, 3721, 3844, 3969, 4096, 4225, 4356, 4489, 4624, 4761, 4900, 5041, 5184, 5329, 5476, 5625, 5776, 5929, 6084, 6241, 6400, 6561, 6724, 6889, 7056, 7225, 7396, 7569, 7744, 7921, 8100, 8281, 8464, 8649, 8836, 9025, 9216, 9409, 9604, 9801]\n"
     ]
    }
   ],
   "source": [
    "print(list(biglist))"
   ]
  },
  {
   "cell_type": "code",
   "execution_count": 8,
   "id": "f265e25c-6252-4888-9275-158e6f8c978e",
   "metadata": {},
   "outputs": [],
   "source": [
    "import numpy as np"
   ]
  },
  {
   "cell_type": "code",
   "execution_count": 9,
   "id": "83efd690-0bd0-4957-996c-b88e99aece63",
   "metadata": {},
   "outputs": [
    {
     "name": "stdout",
     "output_type": "stream",
     "text": [
      "[0 1 2 3 4 5]\n"
     ]
    }
   ],
   "source": [
    "a = np.arange(6)\n",
    "print(a)"
   ]
  },
  {
   "cell_type": "code",
   "execution_count": 10,
   "id": "40403c94-1044-4c62-b81a-bc92b335d19a",
   "metadata": {},
   "outputs": [
    {
     "name": "stdout",
     "output_type": "stream",
     "text": [
      "[ 0  5 10 15 20 25]\n"
     ]
    }
   ],
   "source": [
    "b = a * 5\n",
    "print(b)"
   ]
  },
  {
   "cell_type": "code",
   "execution_count": null,
   "id": "d0aa6bb7-035e-4b3e-ad0a-baf5064326dd",
   "metadata": {},
   "outputs": [],
   "source": []
  }
 ],
 "metadata": {
  "kernelspec": {
   "display_name": "Python 3 (ipykernel)",
   "language": "python",
   "name": "python3"
  },
  "language_info": {
   "codemirror_mode": {
    "name": "ipython",
    "version": 3
   },
   "file_extension": ".py",
   "mimetype": "text/x-python",
   "name": "python",
   "nbconvert_exporter": "python",
   "pygments_lexer": "ipython3",
   "version": "3.10.4"
  }
 },
 "nbformat": 4,
 "nbformat_minor": 5
}
