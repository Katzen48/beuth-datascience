{
 "cells": [
  {
   "cell_type": "markdown",
   "id": "6f48d827-ad25-44d7-8f39-c1cf2a387aa5",
   "metadata": {},
   "source": [
    "# 1. Import numpy as np and see the version"
   ]
  },
  {
   "cell_type": "code",
   "execution_count": 72,
   "id": "c93977f2-a931-4cb9-a32d-0936a96e827d",
   "metadata": {},
   "outputs": [],
   "source": [
    "import numpy as np\n",
    "import sys as sys"
   ]
  },
  {
   "cell_type": "markdown",
   "id": "c1be1f49-7a6e-4d20-b5de-ce81379b9300",
   "metadata": {},
   "source": [
    "# 2. How to create a 1D array?"
   ]
  },
  {
   "cell_type": "code",
   "execution_count": 2,
   "id": "eeeb09cb-8974-424a-badb-ed8efafb4f17",
   "metadata": {},
   "outputs": [],
   "source": [
    "one_dim_array = np.arange(10)"
   ]
  },
  {
   "cell_type": "code",
   "execution_count": 3,
   "id": "6c05d01b-31de-4ef4-a7ff-c9ab0124a0aa",
   "metadata": {},
   "outputs": [
    {
     "data": {
      "text/plain": [
       "array([0, 1, 2, 3, 4, 5, 6, 7, 8, 9])"
      ]
     },
     "execution_count": 3,
     "metadata": {},
     "output_type": "execute_result"
    }
   ],
   "source": [
    "one_dim_array"
   ]
  },
  {
   "cell_type": "markdown",
   "id": "5c516061-bae4-456e-88c9-941a678ab146",
   "metadata": {},
   "source": [
    "# 3. How to create a boolean array?"
   ]
  },
  {
   "cell_type": "code",
   "execution_count": 4,
   "id": "9773f4e9-aeb5-452b-ade4-838f050eee24",
   "metadata": {},
   "outputs": [],
   "source": [
    "bool_array = np.full((3, 3), True, dtype=bool)"
   ]
  },
  {
   "cell_type": "code",
   "execution_count": 5,
   "id": "e0d1df54-774f-4e0c-8a45-7179e332d574",
   "metadata": {},
   "outputs": [
    {
     "data": {
      "text/plain": [
       "array([[ True,  True,  True],\n",
       "       [ True,  True,  True],\n",
       "       [ True,  True,  True]])"
      ]
     },
     "execution_count": 5,
     "metadata": {},
     "output_type": "execute_result"
    }
   ],
   "source": [
    "bool_array"
   ]
  },
  {
   "cell_type": "code",
   "execution_count": 6,
   "id": "66af14c2-0b3a-4fcf-9dd1-dc15df2f0013",
   "metadata": {},
   "outputs": [],
   "source": [
    "bool_array = np.ones((3,3), dtype=bool)"
   ]
  },
  {
   "cell_type": "code",
   "execution_count": 7,
   "id": "d9c2e397-5459-449e-894b-8fa16acff663",
   "metadata": {},
   "outputs": [
    {
     "data": {
      "text/plain": [
       "array([[ True,  True,  True],\n",
       "       [ True,  True,  True],\n",
       "       [ True,  True,  True]])"
      ]
     },
     "execution_count": 7,
     "metadata": {},
     "output_type": "execute_result"
    }
   ],
   "source": [
    "bool_array"
   ]
  },
  {
   "cell_type": "markdown",
   "id": "d5eb39fe-fc52-4717-8ce7-5373d9ede40c",
   "metadata": {},
   "source": [
    "# 4. How to extract items that satisfy a given condition from 1D array?"
   ]
  },
  {
   "cell_type": "code",
   "execution_count": 8,
   "id": "bbfac414-e627-48b4-a0dd-70a8d4a2ffa4",
   "metadata": {},
   "outputs": [],
   "source": [
    "extract_arr = np.array([0, 1, 2, 3, 4, 5, 6, 7, 8, 9])"
   ]
  },
  {
   "cell_type": "code",
   "execution_count": 9,
   "id": "91918516-bb4f-4d00-ac88-a85bd196a96d",
   "metadata": {},
   "outputs": [
    {
     "data": {
      "text/plain": [
       "array([1, 3, 5, 7, 9])"
      ]
     },
     "execution_count": 9,
     "metadata": {},
     "output_type": "execute_result"
    }
   ],
   "source": [
    "extract_arr[extract_arr % 2 == 1]"
   ]
  },
  {
   "cell_type": "markdown",
   "id": "7cba5b53-62a0-47df-945d-9f58a6b81cab",
   "metadata": {},
   "source": [
    "# 5. How to replace items that satisfy a condition with another value in numpy array?"
   ]
  },
  {
   "cell_type": "code",
   "execution_count": 10,
   "id": "2b8bc4a8-ecd9-4043-bff3-33ecbe6afea0",
   "metadata": {},
   "outputs": [],
   "source": [
    "odd_replace_arr = np.arange(10)"
   ]
  },
  {
   "cell_type": "code",
   "execution_count": 11,
   "id": "b01e3cb3-5581-4ff5-98b2-c56641ff0935",
   "metadata": {},
   "outputs": [],
   "source": [
    "odd_replace_arr[odd_replace_arr % 2 == 1] = -1"
   ]
  },
  {
   "cell_type": "code",
   "execution_count": 12,
   "id": "dbdebd40-6a7a-4748-aab4-5f03afa44972",
   "metadata": {},
   "outputs": [
    {
     "data": {
      "text/plain": [
       "array([ 0, -1,  2, -1,  4, -1,  6, -1,  8, -1])"
      ]
     },
     "execution_count": 12,
     "metadata": {},
     "output_type": "execute_result"
    }
   ],
   "source": [
    "odd_replace_arr"
   ]
  },
  {
   "cell_type": "markdown",
   "id": "78c2f4e2-2d75-4d0f-9784-33c89a68278c",
   "metadata": {},
   "source": [
    "# 6. How to replace items that satisfy a condition without affecting the original array?"
   ]
  },
  {
   "cell_type": "code",
   "execution_count": 13,
   "id": "e87f7538-5359-4edc-9688-ddee7f141647",
   "metadata": {},
   "outputs": [],
   "source": [
    "replace_copy_arr = np.arange(10)"
   ]
  },
  {
   "cell_type": "code",
   "execution_count": 14,
   "id": "738194a6-4543-425c-88ec-3dae0a9b01a6",
   "metadata": {},
   "outputs": [],
   "source": [
    "replace_copy_arr_copy = np.where(replace_copy_arr % 2 == 1, -1, replace_copy_arr)"
   ]
  },
  {
   "cell_type": "code",
   "execution_count": 15,
   "id": "5cbd9d41-102e-4d70-b5c6-6253c7531d75",
   "metadata": {},
   "outputs": [
    {
     "data": {
      "text/plain": [
       "array([0, 1, 2, 3, 4, 5, 6, 7, 8, 9])"
      ]
     },
     "execution_count": 15,
     "metadata": {},
     "output_type": "execute_result"
    }
   ],
   "source": [
    "replace_copy_arr"
   ]
  },
  {
   "cell_type": "code",
   "execution_count": 16,
   "id": "02a5da3f-be60-4ef4-9c89-29854b3c72f9",
   "metadata": {},
   "outputs": [
    {
     "data": {
      "text/plain": [
       "array([ 0, -1,  2, -1,  4, -1,  6, -1,  8, -1])"
      ]
     },
     "execution_count": 16,
     "metadata": {},
     "output_type": "execute_result"
    }
   ],
   "source": [
    "replace_copy_arr_copy"
   ]
  },
  {
   "cell_type": "markdown",
   "id": "92b75575-8fbf-44bb-ad3d-51d7eeba797b",
   "metadata": {},
   "source": [
    "# 7. How to reshape an array?"
   ]
  },
  {
   "cell_type": "code",
   "execution_count": 17,
   "id": "5da2e0fe-9dc9-4920-89d7-777c1d3e2d66",
   "metadata": {},
   "outputs": [],
   "source": [
    "reshape_arr = np.arange(10)"
   ]
  },
  {
   "cell_type": "code",
   "execution_count": 18,
   "id": "26053e9f-1c82-4716-9d57-f2048405ed9a",
   "metadata": {},
   "outputs": [
    {
     "data": {
      "text/plain": [
       "array([[0, 1, 2, 3, 4],\n",
       "       [5, 6, 7, 8, 9]])"
      ]
     },
     "execution_count": 18,
     "metadata": {},
     "output_type": "execute_result"
    }
   ],
   "source": [
    "reshape_arr.reshape(2, -1)"
   ]
  },
  {
   "cell_type": "markdown",
   "id": "96a8a3f3-f5e1-474d-82fa-866fbc33badd",
   "metadata": {},
   "source": [
    "# 8. How to stack two arrays vertically?"
   ]
  },
  {
   "cell_type": "code",
   "execution_count": 19,
   "id": "5cf89170-96bd-489f-9cc9-f825e61e8ad1",
   "metadata": {},
   "outputs": [],
   "source": [
    "stack_arr_a = np.arange(10).reshape(2, -1)\n",
    "stack_arr_b = np.repeat(1,10).reshape(2, -1)"
   ]
  },
  {
   "cell_type": "code",
   "execution_count": 20,
   "id": "ba13ad02-c7eb-47cb-ac50-5e5d6213d177",
   "metadata": {},
   "outputs": [
    {
     "data": {
      "text/plain": [
       "array([[0, 1, 2, 3, 4],\n",
       "       [5, 6, 7, 8, 9],\n",
       "       [1, 1, 1, 1, 1],\n",
       "       [1, 1, 1, 1, 1]])"
      ]
     },
     "execution_count": 20,
     "metadata": {},
     "output_type": "execute_result"
    }
   ],
   "source": [
    "np.concatenate([stack_arr_a,stack_arr_b], axis=0)"
   ]
  },
  {
   "cell_type": "code",
   "execution_count": 21,
   "id": "4053817f-6800-491a-b8a0-c2b509c9c24f",
   "metadata": {},
   "outputs": [
    {
     "data": {
      "text/plain": [
       "array([[0, 1, 2, 3, 4],\n",
       "       [5, 6, 7, 8, 9],\n",
       "       [1, 1, 1, 1, 1],\n",
       "       [1, 1, 1, 1, 1]])"
      ]
     },
     "execution_count": 21,
     "metadata": {},
     "output_type": "execute_result"
    }
   ],
   "source": [
    "np.vstack([stack_arr_a,stack_arr_b])"
   ]
  },
  {
   "cell_type": "code",
   "execution_count": 22,
   "id": "2ab4392b-cf25-4186-b2be-4143d0d1fe19",
   "metadata": {},
   "outputs": [
    {
     "data": {
      "text/plain": [
       "array([[0, 1, 2, 3, 4],\n",
       "       [5, 6, 7, 8, 9],\n",
       "       [1, 1, 1, 1, 1],\n",
       "       [1, 1, 1, 1, 1]])"
      ]
     },
     "execution_count": 22,
     "metadata": {},
     "output_type": "execute_result"
    }
   ],
   "source": [
    "np.r_[stack_arr_a,stack_arr_b]"
   ]
  },
  {
   "cell_type": "markdown",
   "id": "3a0b1631-d846-4a2a-8d75-6a0d03095907",
   "metadata": {},
   "source": [
    "# 9. How to stack two arrays horizontally?"
   ]
  },
  {
   "cell_type": "code",
   "execution_count": 23,
   "id": "9aeb5e63-00d1-4d24-a6e8-903e88231120",
   "metadata": {},
   "outputs": [],
   "source": [
    "stack2_arr_a = np.arange(10).reshape(2, -1)\n",
    "stack2_arr_b = np.repeat(1,10).reshape(2, -1)"
   ]
  },
  {
   "cell_type": "code",
   "execution_count": 24,
   "id": "d3eab7c9-6af0-4a51-bcf4-39d83aa8d500",
   "metadata": {},
   "outputs": [
    {
     "data": {
      "text/plain": [
       "array([[0, 1, 2, 3, 4, 1, 1, 1, 1, 1],\n",
       "       [5, 6, 7, 8, 9, 1, 1, 1, 1, 1]])"
      ]
     },
     "execution_count": 24,
     "metadata": {},
     "output_type": "execute_result"
    }
   ],
   "source": [
    "np.concatenate([stack2_arr_a,stack2_arr_b], axis=1)"
   ]
  },
  {
   "cell_type": "code",
   "execution_count": 25,
   "id": "22796904-1e63-4ab0-a099-1b1d5a0add18",
   "metadata": {},
   "outputs": [
    {
     "data": {
      "text/plain": [
       "array([[0, 1, 2, 3, 4, 1, 1, 1, 1, 1],\n",
       "       [5, 6, 7, 8, 9, 1, 1, 1, 1, 1]])"
      ]
     },
     "execution_count": 25,
     "metadata": {},
     "output_type": "execute_result"
    }
   ],
   "source": [
    "np.hstack([stack2_arr_a, stack2_arr_b])"
   ]
  },
  {
   "cell_type": "code",
   "execution_count": 26,
   "id": "5e71cdce-7fa3-4c18-b16e-05dcedfc1701",
   "metadata": {},
   "outputs": [
    {
     "data": {
      "text/plain": [
       "array([[0, 1, 2, 3, 4, 1, 1, 1, 1, 1],\n",
       "       [5, 6, 7, 8, 9, 1, 1, 1, 1, 1]])"
      ]
     },
     "execution_count": 26,
     "metadata": {},
     "output_type": "execute_result"
    }
   ],
   "source": [
    "np.c_[stack2_arr_a,stack2_arr_b]"
   ]
  },
  {
   "cell_type": "markdown",
   "id": "8ecb7c10-003e-4de7-b67d-ae262bb0148c",
   "metadata": {},
   "source": [
    "# 10. How to generate custom sequences in numpy without hardcoding?"
   ]
  },
  {
   "cell_type": "code",
   "execution_count": 27,
   "id": "d5df29b9-9b18-49cb-b88f-45a5408e3309",
   "metadata": {},
   "outputs": [],
   "source": [
    "custom_generate_arr = np.array([1,2,3])"
   ]
  },
  {
   "cell_type": "code",
   "execution_count": 28,
   "id": "9f1b0a13-20fd-4845-a795-e270d8b5288d",
   "metadata": {},
   "outputs": [
    {
     "data": {
      "text/plain": [
       "array([1, 2, 3])"
      ]
     },
     "execution_count": 28,
     "metadata": {},
     "output_type": "execute_result"
    }
   ],
   "source": [
    "custom_generate_arr"
   ]
  },
  {
   "cell_type": "code",
   "execution_count": 29,
   "id": "69506314-dc01-492c-9576-1cf1187420a5",
   "metadata": {},
   "outputs": [
    {
     "data": {
      "text/plain": [
       "array([1, 1, 1, 2, 2, 2, 3, 3, 3, 1, 2, 3, 1, 2, 3, 1, 2, 3])"
      ]
     },
     "execution_count": 29,
     "metadata": {},
     "output_type": "execute_result"
    }
   ],
   "source": [
    "np.r_[np.repeat(custom_generate_arr, 3), np.tile(custom_generate_arr, 3)]"
   ]
  },
  {
   "cell_type": "markdown",
   "id": "e4abf5a3-73d9-4c7f-ae09-64545fa68a71",
   "metadata": {},
   "source": [
    "# 11. How to get the common items between two python numpy arrays?"
   ]
  },
  {
   "cell_type": "code",
   "execution_count": 30,
   "id": "a03d4a74-6308-453f-b1da-b48bc26ab54c",
   "metadata": {},
   "outputs": [],
   "source": [
    "common_arr_a = np.array([1,2,3,2,3,4,3,4,5,6])\n",
    "common_arr_b = np.array([7,2,10,2,7,4,9,4,9,8])"
   ]
  },
  {
   "cell_type": "code",
   "execution_count": 31,
   "id": "44f513aa-2b8b-410c-a7dd-b041083aa06b",
   "metadata": {},
   "outputs": [
    {
     "data": {
      "text/plain": [
       "array([2, 4])"
      ]
     },
     "execution_count": 31,
     "metadata": {},
     "output_type": "execute_result"
    }
   ],
   "source": [
    "np.intersect1d(common_arr_a, common_arr_b)"
   ]
  },
  {
   "cell_type": "markdown",
   "id": "f28e0ffb-1973-44c4-8298-9c330755d240",
   "metadata": {},
   "source": [
    "# 12. How to remove from one array those items that exist in another?"
   ]
  },
  {
   "cell_type": "code",
   "execution_count": 32,
   "id": "67e8e1ff-3e49-43c2-a55d-ba9f2cf48ac9",
   "metadata": {},
   "outputs": [],
   "source": [
    "remove_common_arr_a = np.array([1,2,3,4,5])\n",
    "remove_common_arr_b = np.array([5,6,7,8,9])"
   ]
  },
  {
   "cell_type": "code",
   "execution_count": 33,
   "id": "53fe0894-9bd2-4f23-8c78-49398ae69b0e",
   "metadata": {},
   "outputs": [
    {
     "data": {
      "text/plain": [
       "array([1, 2, 3, 4])"
      ]
     },
     "execution_count": 33,
     "metadata": {},
     "output_type": "execute_result"
    }
   ],
   "source": [
    "np.setdiff1d(remove_common_arr_a, remove_common_arr_b)"
   ]
  },
  {
   "cell_type": "markdown",
   "id": "48a89434-0582-4d7f-be34-29442bd6b1de",
   "metadata": {},
   "source": [
    "# 13. How to get the positions where elements of two arrays match?"
   ]
  },
  {
   "cell_type": "code",
   "execution_count": 34,
   "id": "256c301f-4674-4be6-9540-49c1b7f0444c",
   "metadata": {},
   "outputs": [],
   "source": [
    "match_arr_a = np.array([1,2,3,2,3,4,3,4,5,6])\n",
    "match_arr_b = np.array([7,2,10,2,7,4,9,4,9,8])"
   ]
  },
  {
   "cell_type": "code",
   "execution_count": 35,
   "id": "277b0acc-884c-4db7-ad9e-44dd3ddb32c2",
   "metadata": {},
   "outputs": [
    {
     "data": {
      "text/plain": [
       "(array([1, 3, 5, 7], dtype=int64),)"
      ]
     },
     "execution_count": 35,
     "metadata": {},
     "output_type": "execute_result"
    }
   ],
   "source": [
    "np.where(match_arr_a == match_arr_b)"
   ]
  },
  {
   "cell_type": "markdown",
   "id": "bf5d7575-b96d-4ba1-a817-79c5de068de7",
   "metadata": {},
   "source": [
    "# 14. How to extract all numbers between a given range from a numpy array?"
   ]
  },
  {
   "cell_type": "code",
   "execution_count": 36,
   "id": "22c32985-498a-44f2-8c34-8eee3b0acd9b",
   "metadata": {},
   "outputs": [],
   "source": [
    "between_arr = np.array([2, 6, 1, 9, 10, 3, 27])"
   ]
  },
  {
   "cell_type": "code",
   "execution_count": 37,
   "id": "3a61b962-d03d-43af-a002-c90823e28641",
   "metadata": {},
   "outputs": [
    {
     "data": {
      "text/plain": [
       "array([ 6,  9, 10])"
      ]
     },
     "execution_count": 37,
     "metadata": {},
     "output_type": "execute_result"
    }
   ],
   "source": [
    "between_arr[(between_arr >= 5) & (between_arr <= 10)]"
   ]
  },
  {
   "cell_type": "markdown",
   "id": "04f1756d-d836-44ee-8af2-e2cc28807d22",
   "metadata": {},
   "source": [
    "# 15. How to make a python function that handles scalars to work on numpy arrays?"
   ]
  },
  {
   "cell_type": "code",
   "execution_count": 38,
   "id": "97f79087-0959-40ab-87f0-d68ee6a418ac",
   "metadata": {},
   "outputs": [
    {
     "data": {
      "text/plain": [
       "5"
      ]
     },
     "execution_count": 38,
     "metadata": {},
     "output_type": "execute_result"
    }
   ],
   "source": [
    "def maxx(x, y):\n",
    "    \"\"\"Get the maximum of two items\"\"\"\n",
    "    if x >= y:\n",
    "        return x\n",
    "    else:\n",
    "        return y\n",
    "\n",
    "maxx(1, 5)"
   ]
  },
  {
   "cell_type": "code",
   "execution_count": 39,
   "id": "8a3e0155-d457-44da-bba1-9c2defca6e51",
   "metadata": {},
   "outputs": [],
   "source": [
    "max_arr_a = np.array([5, 7, 9, 8, 6, 4, 5])\n",
    "max_arr_b = np.array([6, 3, 4, 8, 9, 7, 1])"
   ]
  },
  {
   "cell_type": "code",
   "execution_count": 40,
   "id": "d25ae66d-686c-4487-a942-54fa3b6a7c7d",
   "metadata": {},
   "outputs": [],
   "source": [
    "pair_max = np.vectorize(maxx, otypes=[float])"
   ]
  },
  {
   "cell_type": "code",
   "execution_count": 41,
   "id": "8a958b05-5b6c-4024-b4b4-41d809328dea",
   "metadata": {},
   "outputs": [
    {
     "data": {
      "text/plain": [
       "array([6., 7., 9., 8., 9., 7., 5.])"
      ]
     },
     "execution_count": 41,
     "metadata": {},
     "output_type": "execute_result"
    }
   ],
   "source": [
    "pair_max(max_arr_a,max_arr_b)"
   ]
  },
  {
   "cell_type": "markdown",
   "id": "e2fc77a7-2960-45a4-98d4-4e7c876eaf0a",
   "metadata": {},
   "source": [
    "# 16. How to swap two columns in a 2d numpy array?"
   ]
  },
  {
   "cell_type": "code",
   "execution_count": 42,
   "id": "1fa46195-f8ec-43ba-a305-c459f40b9478",
   "metadata": {},
   "outputs": [],
   "source": [
    "swap_arr = np.arange(9).reshape(3,3)"
   ]
  },
  {
   "cell_type": "code",
   "execution_count": 43,
   "id": "ccce3718-430d-4f31-95e2-405a2be21e76",
   "metadata": {},
   "outputs": [
    {
     "data": {
      "text/plain": [
       "array([[0, 1, 2],\n",
       "       [3, 4, 5],\n",
       "       [6, 7, 8]])"
      ]
     },
     "execution_count": 43,
     "metadata": {},
     "output_type": "execute_result"
    }
   ],
   "source": [
    "swap_arr"
   ]
  },
  {
   "cell_type": "code",
   "execution_count": 44,
   "id": "42d9fc0d-83a7-47ab-abf3-d6dfb5d26405",
   "metadata": {},
   "outputs": [
    {
     "data": {
      "text/plain": [
       "array([[1, 0, 2],\n",
       "       [4, 3, 5],\n",
       "       [7, 6, 8]])"
      ]
     },
     "execution_count": 44,
     "metadata": {},
     "output_type": "execute_result"
    }
   ],
   "source": [
    "swap_arr[:, [1,0,2]]"
   ]
  },
  {
   "cell_type": "markdown",
   "id": "d224498f-32ea-47c5-be36-951b9490e39f",
   "metadata": {},
   "source": [
    "# 17. How to swap two rows in a 2d numpy array?"
   ]
  },
  {
   "cell_type": "code",
   "execution_count": 45,
   "id": "d9c34e96-581b-431b-b20e-49943d95b40f",
   "metadata": {},
   "outputs": [],
   "source": [
    "swap2_arr = np.arange(9).reshape(3,3)"
   ]
  },
  {
   "cell_type": "code",
   "execution_count": 46,
   "id": "9decd02a-0eeb-4a0c-a291-6e92339308a5",
   "metadata": {},
   "outputs": [
    {
     "data": {
      "text/plain": [
       "array([[3, 4, 5],\n",
       "       [0, 1, 2],\n",
       "       [6, 7, 8]])"
      ]
     },
     "execution_count": 46,
     "metadata": {},
     "output_type": "execute_result"
    }
   ],
   "source": [
    "swap2_arr[[1,0,2], :]"
   ]
  },
  {
   "cell_type": "markdown",
   "id": "8e64e9f6-ee8e-4e49-b306-bc254830141c",
   "metadata": {},
   "source": [
    "# 18. How to reverse the rows of a 2D array?"
   ]
  },
  {
   "cell_type": "code",
   "execution_count": 47,
   "id": "cf7378a2-b64f-4ff4-a16b-5c879d144979",
   "metadata": {},
   "outputs": [],
   "source": [
    "reverse_arr = np.arange(9).reshape(3,3)"
   ]
  },
  {
   "cell_type": "code",
   "execution_count": 48,
   "id": "f1b675eb-2863-487e-8dfa-0104e0065073",
   "metadata": {},
   "outputs": [
    {
     "data": {
      "text/plain": [
       "array([[6, 7, 8],\n",
       "       [3, 4, 5],\n",
       "       [0, 1, 2]])"
      ]
     },
     "execution_count": 48,
     "metadata": {},
     "output_type": "execute_result"
    }
   ],
   "source": [
    "reverse_arr[::-1]"
   ]
  },
  {
   "cell_type": "markdown",
   "id": "3608a738-a515-45b7-afdf-71f1123d72ef",
   "metadata": {},
   "source": [
    "# 19. How to reverse the columns of a 2D array?"
   ]
  },
  {
   "cell_type": "code",
   "execution_count": 49,
   "id": "6adc0715-3bb8-4817-947c-98c3f3e55334",
   "metadata": {},
   "outputs": [],
   "source": [
    "reverse2_arr = np.arange(9).reshape(3,3)"
   ]
  },
  {
   "cell_type": "code",
   "execution_count": 50,
   "id": "5b7f40c5-ff41-482a-b8da-0a465467bb2c",
   "metadata": {},
   "outputs": [
    {
     "data": {
      "text/plain": [
       "array([[2, 1, 0],\n",
       "       [5, 4, 3],\n",
       "       [8, 7, 6]])"
      ]
     },
     "execution_count": 50,
     "metadata": {},
     "output_type": "execute_result"
    }
   ],
   "source": [
    "reverse2_arr[:, ::-1]"
   ]
  },
  {
   "cell_type": "markdown",
   "id": "2059e724-1446-4496-878a-6ac1f16a7589",
   "metadata": {},
   "source": [
    "# 20. How to create a 2D array containing random floats between 5 and 10?"
   ]
  },
  {
   "cell_type": "code",
   "execution_count": 51,
   "id": "c5543b91-fd10-4484-a2ca-ca72d3a3b354",
   "metadata": {},
   "outputs": [],
   "source": [
    "rand_arr = np.random.randint(low=5, high=10, size=(5,3))"
   ]
  },
  {
   "cell_type": "code",
   "execution_count": 52,
   "id": "73c775b1-905e-4fec-81e7-5bddb88b3b44",
   "metadata": {},
   "outputs": [
    {
     "name": "stdout",
     "output_type": "stream",
     "text": [
      "[[5 5 5]\n",
      " [9 5 5]\n",
      " [9 8 8]\n",
      " [5 7 7]\n",
      " [6 7 5]]\n"
     ]
    }
   ],
   "source": [
    "print(rand_arr)"
   ]
  },
  {
   "cell_type": "markdown",
   "id": "43279c33-87da-4185-af9f-78efa0cec465",
   "metadata": {},
   "source": [
    "# 21. How to print only 3 decimal places in python numpy array?"
   ]
  },
  {
   "cell_type": "code",
   "execution_count": 53,
   "id": "e1033081-a72a-4537-b5a4-1d986720e44a",
   "metadata": {},
   "outputs": [],
   "source": [
    "decimal_places_arr = np.random.random((5,3))"
   ]
  },
  {
   "cell_type": "code",
   "execution_count": 54,
   "id": "a71b9c84-1875-40aa-adff-e11c05f067ef",
   "metadata": {},
   "outputs": [
    {
     "data": {
      "text/plain": [
       "array([[0.59915685, 0.56376513, 0.53643931],\n",
       "       [0.18121843, 0.01610983, 0.13510111],\n",
       "       [0.3400914 , 0.08862105, 0.06845031],\n",
       "       [0.84319229, 0.16041656, 0.03548784],\n",
       "       [0.47162088, 0.66947735, 0.39202031]])"
      ]
     },
     "execution_count": 54,
     "metadata": {},
     "output_type": "execute_result"
    }
   ],
   "source": [
    "decimal_places_arr"
   ]
  },
  {
   "cell_type": "code",
   "execution_count": 55,
   "id": "31845f4d-48ce-4781-8561-ff05729397a0",
   "metadata": {},
   "outputs": [],
   "source": [
    "np.set_printoptions(precision=3)"
   ]
  },
  {
   "cell_type": "code",
   "execution_count": 56,
   "id": "2e948e97-fb0c-451b-b4bf-6970b0d1db17",
   "metadata": {},
   "outputs": [
    {
     "data": {
      "text/plain": [
       "array([[0.599, 0.564, 0.536],\n",
       "       [0.181, 0.016, 0.135],\n",
       "       [0.34 , 0.089, 0.068],\n",
       "       [0.843, 0.16 , 0.035],\n",
       "       [0.472, 0.669, 0.392]])"
      ]
     },
     "execution_count": 56,
     "metadata": {},
     "output_type": "execute_result"
    }
   ],
   "source": [
    "decimal_places_arr"
   ]
  },
  {
   "cell_type": "markdown",
   "id": "679a238e-cd27-463e-8304-712a71856bac",
   "metadata": {},
   "source": [
    "# 22. How to pretty print a numpy array by suppressing the scientific notation (like 1e10)?"
   ]
  },
  {
   "cell_type": "code",
   "execution_count": 57,
   "id": "bc9393ff-722a-4eb9-ab6e-4384597ca819",
   "metadata": {},
   "outputs": [],
   "source": [
    "np.random.seed(100)\n",
    "scientific_arr = np.random.random((3,3)) / 1e3"
   ]
  },
  {
   "cell_type": "code",
   "execution_count": 58,
   "id": "4347644b-5708-45dd-9b6a-61ed4a77f622",
   "metadata": {},
   "outputs": [
    {
     "data": {
      "text/plain": [
       "array([[5.434e-04, 2.784e-04, 4.245e-04],\n",
       "       [8.448e-04, 4.719e-06, 1.216e-04],\n",
       "       [6.707e-04, 8.259e-04, 1.367e-04]])"
      ]
     },
     "execution_count": 58,
     "metadata": {},
     "output_type": "execute_result"
    }
   ],
   "source": [
    "scientific_arr"
   ]
  },
  {
   "cell_type": "code",
   "execution_count": 61,
   "id": "c89ccc9e-5a9a-455b-b334-9a83fb153fcc",
   "metadata": {},
   "outputs": [],
   "source": [
    "np.set_printoptions(suppress=True, precision=6)"
   ]
  },
  {
   "cell_type": "code",
   "execution_count": 62,
   "id": "3bbcabf1-1b11-4a9a-ad3c-1945b6a4b3a6",
   "metadata": {},
   "outputs": [
    {
     "data": {
      "text/plain": [
       "array([[0.000543, 0.000278, 0.000425],\n",
       "       [0.000845, 0.000005, 0.000122],\n",
       "       [0.000671, 0.000826, 0.000137]])"
      ]
     },
     "execution_count": 62,
     "metadata": {},
     "output_type": "execute_result"
    }
   ],
   "source": [
    "scientific_arr"
   ]
  },
  {
   "cell_type": "markdown",
   "id": "a1e97d06-1e62-45ba-ac30-b5ed509f5daa",
   "metadata": {},
   "source": [
    "# 23. How to limit the number of items printed in output of numpy array?"
   ]
  },
  {
   "cell_type": "code",
   "execution_count": 63,
   "id": "517a60f2-8fc3-4661-8d4a-a78bde6edabc",
   "metadata": {},
   "outputs": [],
   "source": [
    "limit_arr = np.arange(15)"
   ]
  },
  {
   "cell_type": "code",
   "execution_count": 64,
   "id": "3f505834-71d4-4938-8cf6-063570d0070a",
   "metadata": {},
   "outputs": [],
   "source": [
    "np.set_printoptions(threshold=6)"
   ]
  },
  {
   "cell_type": "code",
   "execution_count": 65,
   "id": "70e64bbf-56e5-4e81-893c-b4971597dfe9",
   "metadata": {},
   "outputs": [
    {
     "data": {
      "text/plain": [
       "array([ 0,  1,  2, ..., 12, 13, 14])"
      ]
     },
     "execution_count": 65,
     "metadata": {},
     "output_type": "execute_result"
    }
   ],
   "source": [
    "limit_arr"
   ]
  },
  {
   "cell_type": "markdown",
   "id": "011801dc-1462-4b2a-902a-e845480971db",
   "metadata": {},
   "source": [
    "# 24. How to print the full numpy array without truncating"
   ]
  },
  {
   "cell_type": "code",
   "execution_count": 67,
   "id": "18c5bc9b-553f-4461-94ed-2184a84439fd",
   "metadata": {},
   "outputs": [],
   "source": [
    "np.set_printoptions(threshold=6)\n",
    "no_trunc_arr = np.arange(15)"
   ]
  },
  {
   "cell_type": "code",
   "execution_count": 68,
   "id": "d5e60bce-9b64-45d7-ab27-ef3ddb44f771",
   "metadata": {},
   "outputs": [
    {
     "data": {
      "text/plain": [
       "array([ 0,  1,  2, ..., 12, 13, 14])"
      ]
     },
     "execution_count": 68,
     "metadata": {},
     "output_type": "execute_result"
    }
   ],
   "source": [
    "no_trunc_arr"
   ]
  },
  {
   "cell_type": "code",
   "execution_count": 73,
   "id": "6a7da392-9631-4e69-b7a0-29272d7df15f",
   "metadata": {},
   "outputs": [],
   "source": [
    "np.set_printoptions(threshold=sys.maxsize)"
   ]
  },
  {
   "cell_type": "code",
   "execution_count": 74,
   "id": "03fc92c9-7dd1-4a46-8b7c-cc3fca3af825",
   "metadata": {},
   "outputs": [
    {
     "data": {
      "text/plain": [
       "array([ 0,  1,  2,  3,  4,  5,  6,  7,  8,  9, 10, 11, 12, 13, 14])"
      ]
     },
     "execution_count": 74,
     "metadata": {},
     "output_type": "execute_result"
    }
   ],
   "source": [
    "no_trunc_arr"
   ]
  },
  {
   "cell_type": "markdown",
   "id": "900345fc-3262-4cad-a6d9-d98353080a2b",
   "metadata": {},
   "source": [
    "# 25. How to import a dataset with numbers and texts keeping the text intact in python numpy?"
   ]
  },
  {
   "cell_type": "code",
   "execution_count": 75,
   "id": "2ec24ad2-0e57-4df3-9349-ce474a11ca5d",
   "metadata": {},
   "outputs": [],
   "source": [
    "url = 'https://archive.ics.uci.edu/ml/machine-learning-databases/iris/iris.data'\n",
    "iris = np.genfromtxt(url, delimiter=',', dtype='object')\n",
    "names = ('sepallength', 'sepalwidth', 'petallength', 'petalwidth', 'species')"
   ]
  },
  {
   "cell_type": "code",
   "execution_count": 76,
   "id": "6f4aeaba-c539-4d2d-ae3e-db3bbc76ff48",
   "metadata": {},
   "outputs": [
    {
     "data": {
      "text/plain": [
       "array([[b'5.1', b'3.5', b'1.4', b'0.2', b'Iris-setosa'],\n",
       "       [b'4.6', b'3.1', b'1.5', b'0.2', b'Iris-setosa'],\n",
       "       [b'4.6', b'3.4', b'1.4', b'0.3', b'Iris-setosa'],\n",
       "       [b'4.9', b'3.1', b'1.5', b'0.1', b'Iris-setosa'],\n",
       "       [b'4.8', b'3.0', b'1.4', b'0.1', b'Iris-setosa'],\n",
       "       [b'5.7', b'4.4', b'1.5', b'0.4', b'Iris-setosa'],\n",
       "       [b'5.7', b'3.8', b'1.7', b'0.3', b'Iris-setosa'],\n",
       "       [b'5.1', b'3.7', b'1.5', b'0.4', b'Iris-setosa'],\n",
       "       [b'4.8', b'3.4', b'1.9', b'0.2', b'Iris-setosa'],\n",
       "       [b'5.2', b'3.5', b'1.5', b'0.2', b'Iris-setosa'],\n",
       "       [b'4.8', b'3.1', b'1.6', b'0.2', b'Iris-setosa'],\n",
       "       [b'5.5', b'4.2', b'1.4', b'0.2', b'Iris-setosa'],\n",
       "       [b'5.5', b'3.5', b'1.3', b'0.2', b'Iris-setosa'],\n",
       "       [b'5.1', b'3.4', b'1.5', b'0.2', b'Iris-setosa'],\n",
       "       [b'4.4', b'3.2', b'1.3', b'0.2', b'Iris-setosa'],\n",
       "       [b'4.8', b'3.0', b'1.4', b'0.3', b'Iris-setosa'],\n",
       "       [b'5.3', b'3.7', b'1.5', b'0.2', b'Iris-setosa'],\n",
       "       [b'6.4', b'3.2', b'4.5', b'1.5', b'Iris-versicolor'],\n",
       "       [b'6.5', b'2.8', b'4.6', b'1.5', b'Iris-versicolor'],\n",
       "       [b'4.9', b'2.4', b'3.3', b'1.0', b'Iris-versicolor'],\n",
       "       [b'5.0', b'2.0', b'3.5', b'1.0', b'Iris-versicolor'],\n",
       "       [b'6.1', b'2.9', b'4.7', b'1.4', b'Iris-versicolor'],\n",
       "       [b'5.6', b'3.0', b'4.5', b'1.5', b'Iris-versicolor'],\n",
       "       [b'5.6', b'2.5', b'3.9', b'1.1', b'Iris-versicolor'],\n",
       "       [b'6.3', b'2.5', b'4.9', b'1.5', b'Iris-versicolor'],\n",
       "       [b'6.6', b'3.0', b'4.4', b'1.4', b'Iris-versicolor'],\n",
       "       [b'6.0', b'2.9', b'4.5', b'1.5', b'Iris-versicolor'],\n",
       "       [b'5.5', b'2.4', b'3.7', b'1.0', b'Iris-versicolor'],\n",
       "       [b'5.4', b'3.0', b'4.5', b'1.5', b'Iris-versicolor'],\n",
       "       [b'6.3', b'2.3', b'4.4', b'1.3', b'Iris-versicolor'],\n",
       "       [b'5.5', b'2.6', b'4.4', b'1.2', b'Iris-versicolor'],\n",
       "       [b'5.0', b'2.3', b'3.3', b'1.0', b'Iris-versicolor'],\n",
       "       [b'5.7', b'2.9', b'4.2', b'1.3', b'Iris-versicolor'],\n",
       "       [b'5.7', b'2.8', b'4.1', b'1.3', b'Iris-versicolor'],\n",
       "       [b'7.1', b'3.0', b'5.9', b'2.1', b'Iris-virginica'],\n",
       "       [b'7.6', b'3.0', b'6.6', b'2.1', b'Iris-virginica'],\n",
       "       [b'6.7', b'2.5', b'5.8', b'1.8', b'Iris-virginica'],\n",
       "       [b'6.4', b'2.7', b'5.3', b'1.9', b'Iris-virginica'],\n",
       "       [b'5.8', b'2.8', b'5.1', b'2.4', b'Iris-virginica'],\n",
       "       [b'7.7', b'3.8', b'6.7', b'2.2', b'Iris-virginica'],\n",
       "       [b'6.9', b'3.2', b'5.7', b'2.3', b'Iris-virginica'],\n",
       "       [b'6.3', b'2.7', b'4.9', b'1.8', b'Iris-virginica'],\n",
       "       [b'6.2', b'2.8', b'4.8', b'1.8', b'Iris-virginica'],\n",
       "       [b'7.2', b'3.0', b'5.8', b'1.6', b'Iris-virginica'],\n",
       "       [b'6.4', b'2.8', b'5.6', b'2.2', b'Iris-virginica'],\n",
       "       [b'7.7', b'3.0', b'6.1', b'2.3', b'Iris-virginica'],\n",
       "       [b'6.0', b'3.0', b'4.8', b'1.8', b'Iris-virginica'],\n",
       "       [b'6.9', b'3.1', b'5.1', b'2.3', b'Iris-virginica'],\n",
       "       [b'6.7', b'3.3', b'5.7', b'2.5', b'Iris-virginica'],\n",
       "       [b'6.5', b'3.0', b'5.2', b'2.0', b'Iris-virginica']], dtype=object)"
      ]
     },
     "execution_count": 76,
     "metadata": {},
     "output_type": "execute_result"
    }
   ],
   "source": [
    "iris[::3]"
   ]
  },
  {
   "cell_type": "code",
   "execution_count": null,
   "id": "20f44f51-ed51-4714-8379-4c26c6a2f7d2",
   "metadata": {},
   "outputs": [],
   "source": []
  }
 ],
 "metadata": {
  "kernelspec": {
   "display_name": "Python 3 (ipykernel)",
   "language": "python",
   "name": "python3"
  },
  "language_info": {
   "codemirror_mode": {
    "name": "ipython",
    "version": 3
   },
   "file_extension": ".py",
   "mimetype": "text/x-python",
   "name": "python",
   "nbconvert_exporter": "python",
   "pygments_lexer": "ipython3",
   "version": "3.10.4"
  }
 },
 "nbformat": 4,
 "nbformat_minor": 5
}
